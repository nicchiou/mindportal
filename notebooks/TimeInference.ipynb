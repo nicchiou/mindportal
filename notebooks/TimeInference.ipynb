{
 "cells": [
  {
   "cell_type": "code",
   "execution_count": 18,
   "id": "0d4ad60f-0011-413d-b37d-8f6b959ffa44",
   "metadata": {},
   "outputs": [],
   "source": [
    "import json\n",
    "import time\n",
    "import os\n",
    "import sys\n",
    "import pickle5 as pickle\n",
    "import time\n",
    "import traceback\n",
    "from collections import Counter\n",
    "from functools import partial\n",
    "\n",
    "import numpy as np\n",
    "import pandas as pd\n",
    "import torch\n",
    "from sklearn.metrics import roc_auc_score\n",
    "from spatiotemporal_cnn.dataset_bci import DatasetBuilder, SingleSubjectData\n",
    "from spatiotemporal_cnn.models_bci import SpatiotemporalCNN\n",
    "from spatiotemporal_cnn.utils import deterministic, evaluate, run_inference\n",
    "from torch.utils.data import DataLoader\n",
    "from utils import constants"
   ]
  },
  {
   "cell_type": "code",
   "execution_count": 2,
   "id": "3cb49546-7a4c-43dc-ae98-2d96f8861279",
   "metadata": {},
   "outputs": [],
   "source": [
    "results_dir = '/shared/rsaas/nschiou2/mindportal/bci/mot/motor_LR/spatiotemporal_cnn/voxel_space/max_abs_scale/baseline_ph_viable_vox/hyperopt/s_2804/hyperopt_search/'\n",
    "model_dir = os.path.join(\n",
    "    results_dir,\n",
    "    'train_with_configs_fff29d68_10_D=9,F1=16,F2=7,T=75,batch_size=32,dropout=0.5,fs=52,l2=0.0001,lr=0.001_2022-06-08_11-49-44',\n",
    ")\n",
    "data_dir = os.path.join(constants.PH_SUBJECTS_DIR, 'bci', 'voxel_space', 'avg_rl_cropped_00_12')"
   ]
  },
  {
   "cell_type": "code",
   "execution_count": 3,
   "id": "f3c5ee74-68c3-41e5-9987-362f66c3ad69",
   "metadata": {},
   "outputs": [],
   "source": [
    "subject = '2804'\n",
    "train_submontages = ['abc']"
   ]
  },
  {
   "cell_type": "code",
   "execution_count": 7,
   "id": "2c16986c-4b09-4271-9277-6d3f9e64511d",
   "metadata": {},
   "outputs": [],
   "source": [
    "bci_data = SingleSubjectData(\n",
    "    data_dir=data_dir,\n",
    "    subject_id=subject,\n",
    "    train_submontages=train_submontages,\n",
    "    classification_task='motor_LR',\n",
    "    expt_type='mot',\n",
    "    filter_zeros=True,\n",
    "    input_space='voxel_space',\n",
    "    data_type='ph'\n",
    ")\n",
    "\n",
    "num_features = bci_data.get_num_viable_features()\n",
    "\n",
    "db = DatasetBuilder(\n",
    "    data=bci_data, seed=42, seed_cv=15,\n",
    "    max_abs_scale=True,\n",
    "    impute='zero')"
   ]
  },
  {
   "cell_type": "code",
   "execution_count": 9,
   "id": "ec0486ad-b8c4-437e-a880-416f5f4a965c",
   "metadata": {},
   "outputs": [],
   "source": [
    "with open(os.path.join(model_dir, 'params.pkl'), 'rb') as pickle_file:\n",
    "    model_p = pickle.load(pickle_file)\n",
    "model_p['C'] = num_features"
   ]
  },
  {
   "cell_type": "code",
   "execution_count": 10,
   "id": "a7f0aee1-e0b5-4d90-b3b0-c259fc7a91d6",
   "metadata": {},
   "outputs": [
    {
     "data": {
      "text/plain": [
       "{'fs': 52,\n",
       " 'T': 75,\n",
       " 'F1': 16,\n",
       " 'D': 9,\n",
       " 'F2': 7,\n",
       " 'lr': 0.001,\n",
       " 'batch_size': 32,\n",
       " 'dropout': 0.5,\n",
       " 'l2': 0.0001,\n",
       " 'C': 98}"
      ]
     },
     "execution_count": 10,
     "metadata": {},
     "output_type": "execute_result"
    }
   ],
   "source": [
    "model_p"
   ]
  },
  {
   "cell_type": "code",
   "execution_count": 19,
   "id": "3be3208c-39b1-4499-86c6-1f3a1b681bdd",
   "metadata": {},
   "outputs": [
    {
     "name": "stdout",
     "output_type": "stream",
     "text": [
      "19678 trainable parameters\n"
     ]
    }
   ],
   "source": [
    "model = SpatiotemporalCNN(\n",
    "    C=model_p['C'],\n",
    "    F1=model_p['F1'],\n",
    "    D=model_p['D'],\n",
    "    F2=model_p['F2'],\n",
    "    p=model_p['dropout'],\n",
    "    fs=model_p['fs'],\n",
    "    T=model_p['T']\n",
    ")\n",
    "model_parameters = filter(\n",
    "    lambda p: p.requires_grad, model.parameters())\n",
    "params = sum([np.prod(p.size()) for p in model_parameters])\n",
    "print(f'{params} trainable parameters', flush=True)\n",
    "\n",
    "device = 'cpu'\n",
    "if torch.cuda.is_available():\n",
    "    device = 'cuda:0'\n",
    "    if torch.cuda.device_count() > 1:\n",
    "        model = torch.nn.DataParallel(model)\n",
    "model = model.to(device)"
   ]
  },
  {
   "cell_type": "code",
   "execution_count": 20,
   "id": "2994fb80-94fa-4143-86bb-6dc465369ace",
   "metadata": {},
   "outputs": [],
   "source": [
    "def time_inference(model, device, data_loader):\n",
    "\n",
    "    model.eval()\n",
    "    pred = list()\n",
    "    times = list()\n",
    "    with torch.no_grad():\n",
    "        for _, data, labels in data_loader:\n",
    "\n",
    "            t0 = time.time()\n",
    "            data = data.to(device) \\\n",
    "                if isinstance(data, torch.Tensor) \\\n",
    "                else [i.to(device) for i in data]\n",
    "            labels = labels.to(device)\n",
    "\n",
    "            outputs = model(data).squeeze()\n",
    "            probabilities = torch.sigmoid(outputs)\n",
    "            predicted = probabilities > 0.5\n",
    "            t1 = time.time()\n",
    "\n",
    "            pred.extend(predicted.data.tolist())\n",
    "            times.extend(t1-t0)\n",
    "    \n",
    "    return times"
   ]
  },
  {
   "cell_type": "code",
   "execution_count": null,
   "id": "4e9386d5-400c-4306-a358-2e65750d7dc1",
   "metadata": {},
   "outputs": [],
   "source": [
    "for i, (inner_train_valids, test_dataset) in enumerate(db.build_datasets(cv=5, nested_cv=1)):\n",
    "\n",
    "    for j, (train_dataset, valid_dataset) in enumerate(inner_train_valids):\n",
    "\n",
    "        test_dataset.impute_chan(train_dataset)\n",
    "        test_loader = DataLoader(test_dataset, batch_size=1, shuffle=False)\n",
    "\n",
    "        time_inference(model, device, test_loader)"
   ]
  },
  {
   "cell_type": "code",
   "execution_count": null,
   "id": "75ba68c5-9762-48e4-98cf-6a7b553267a3",
   "metadata": {},
   "outputs": [],
   "source": []
  }
 ],
 "metadata": {
  "kernelspec": {
   "display_name": "Python 3",
   "language": "python",
   "name": "python3"
  },
  "language_info": {
   "codemirror_mode": {
    "name": "ipython",
    "version": 3
   },
   "file_extension": ".py",
   "mimetype": "text/x-python",
   "name": "python",
   "nbconvert_exporter": "python",
   "pygments_lexer": "ipython3",
   "version": "3.6.8"
  }
 },
 "nbformat": 4,
 "nbformat_minor": 5
}
