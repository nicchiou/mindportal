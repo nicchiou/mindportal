{
 "cells": [
  {
   "cell_type": "code",
   "execution_count": 9,
   "id": "16125395-3215-4d47-862c-7816ab40c1dd",
   "metadata": {},
   "outputs": [],
   "source": [
    "import os\n",
    "from tqdm.notebook import tqdm\n",
    "\n",
    "import numpy as np\n",
    "import pandas as pd\n",
    "import scipy.io as sio\n",
    "import matplotlib.pyplot as plt\n",
    "\n",
    "from utils import constants"
   ]
  },
  {
   "cell_type": "markdown",
   "id": "10fbf07c-3cec-4a09-ae98-0cfc6472e7b6",
   "metadata": {},
   "source": [
    "Load pre-processed data file and isolate phase data"
   ]
  },
  {
   "cell_type": "code",
   "execution_count": 16,
   "id": "46a819d5-ed6a-4724-99e8-afacdeef72df",
   "metadata": {},
   "outputs": [],
   "source": [
    "unfilt = False\n",
    "pc = False\n",
    "\n",
    "filt = 'filt_chan' if not unfilt else 'single_trial'\n",
    "anchor = 'pc' if pc else 'rs'"
   ]
  },
  {
   "cell_type": "code",
   "execution_count": 17,
   "id": "093ddda2-9c47-4e7f-9af9-d56a4f97a710",
   "metadata": {},
   "outputs": [],
   "source": [
    "data_dir = os.path.join(constants.PHASE_DATA_DIR, anchor)\n",
    "\n",
    "all_data = pd.read_parquet(os.path.join(constants.ALL_SIGNAL_DIR, anchor, f'all_{filt}.parquet'))"
   ]
  },
  {
   "cell_type": "code",
   "execution_count": 18,
   "id": "aa117d38-fd20-418c-8e7c-bac0f56ec871",
   "metadata": {},
   "outputs": [],
   "source": [
    "# Filter phase features only\n",
    "ph_data = all_data[[c for c in all_data.columns if ('ac_' not in c) and ('dc_' not in c)]]\n",
    "\n",
    "ph_data.to_parquet(os.path.join(data_dir, f'phase_{filt}.parquet'), index=False)"
   ]
  },
  {
   "cell_type": "markdown",
   "id": "a640d873-bc3d-403e-baf8-680bbd8484d3",
   "metadata": {},
   "source": [
    "We can use a specific window of the signal or the full signal"
   ]
  },
  {
   "cell_type": "code",
   "execution_count": 19,
   "id": "26fd6ea8-9f3e-4606-8df7-510b164c1b83",
   "metadata": {},
   "outputs": [],
   "source": [
    "ph_data = pd.read_parquet(os.path.join(data_dir, f'phase_{filt}.parquet'))\n",
    "\n",
    "ph_data = ph_data.rename({'trial_num_04': 'trial_num',\n",
    "                          'subject_id_04': 'subject_id',\n",
    "                          'trial_type_04': 'trial_type',\n",
    "                          'montage_04': 'montage'}, axis=1)\n",
    "ph_data = ph_data.drop(['trial_num_08', 'subject_id_08', 'trial_type_08', 'montage_08',\n",
    "                        'trial_num_13', 'subject_id_13', 'trial_type_13', 'montage_13'], axis=1)"
   ]
  },
  {
   "cell_type": "code",
   "execution_count": 20,
   "id": "416d3a24-868b-4418-b580-8a29fda34300",
   "metadata": {},
   "outputs": [],
   "source": [
    "# Utilize only the full signal\n",
    "ph_all = ph_data[[c for c in ph_data.columns if len(c.split('_')) == 4 and 'ph_' in c] + ['trial_num', 'subject_id', 'trial_type', 'montage']]\n",
    "\n",
    "ph_all.to_parquet(os.path.join(data_dir, f'phase_all_{filt}.parquet'), index=False)"
   ]
  },
  {
   "cell_type": "code",
   "execution_count": 21,
   "id": "03b3642a-4a8a-41ef-9862-5c1ae42153a2",
   "metadata": {},
   "outputs": [
    {
     "data": {
      "application/vnd.jupyter.widget-view+json": {
       "model_id": "8f1cc3c449cc4e6bb22b32edd451bf23",
       "version_major": 2,
       "version_minor": 0
      },
      "text/plain": [
       "  0%|          | 0/8 [00:00<?, ?it/s]"
      ]
     },
     "metadata": {},
     "output_type": "display_data"
    }
   ],
   "source": [
    "# Filter windows of 500 ms\n",
    "for i in tqdm(range(8)):\n",
    "    ph_win = ph_data[[c for c in ph_data.columns if f'win{i}' in c] + ['trial_num', 'subject_id', 'trial_type', 'montage']]\n",
    "\n",
    "    ph_win.to_parquet(os.path.join(data_dir, f'phase_win{i}_{filt}.parquet'), index=False)"
   ]
  },
  {
   "cell_type": "markdown",
   "id": "e2b3aae9-f62c-4623-8747-0ca6c87d54f5",
   "metadata": {},
   "source": [
    "# Extract band power features"
   ]
  },
  {
   "cell_type": "code",
   "execution_count": 12,
   "id": "d2892852",
   "metadata": {},
   "outputs": [],
   "source": [
    "montages = ['a', 'b', 'c', 'd', 'e', 'f', 'g', 'h']\n",
    "\n",
    "window_mapping = {\n",
    "    'all': 'ph',\n",
    "    'rt': 'ph-rt',\n",
    "    'pre-stim': 'ph-pre-stim',\n",
    "    'init': 'ph-init',\n",
    "    'pre-rt': 'ph-pre-rt',\n",
    "    'post-rt': 'ph-post-rt'\n",
    "}\n",
    "\n",
    "def extract_features(data_dir, input_fname, key, output_fname):\n",
    "\n",
    "    df = pd.read_parquet(os.path.join(data_dir, input_fname))\n",
    "    length = len(df.loc[0, f'{window_mapping[key]}_e_0_04'])\n",
    "    orig = df[[f'{window_mapping[key]}_{m}_{i}_{f}' for m in montages for i in range(128) for f in ['04', '08', '13']]].values\n",
    "    empty = np.zeros((orig.shape[0], orig.shape[1], length))\n",
    "\n",
    "    for i in range(orig.shape[0]):\n",
    "        for j in range(orig.shape[1]):\n",
    "            empty[i, j, :] = orig[i, j]\n",
    "    max_feats = pd.DataFrame(np.max(empty.copy(), axis=-1),\n",
    "        columns=[f'max_{window_mapping[key]}_{m}_{i}_{f}' for m in montages for i in range(128) for f in ['04', '08', '13']])\n",
    "    min_feats = pd.DataFrame(np.min(empty.copy(), axis=-1),\n",
    "        columns=[f'min_{window_mapping[key]}_{m}_{i}_{f}' for m in montages for i in range(128) for f in ['04', '08', '13']])\n",
    "    mean_feats = pd.DataFrame(np.mean(empty.copy(), axis=-1),\n",
    "        columns=[f'mean_{window_mapping[key]}_{m}_{i}_{f}' for m in montages for i in range(128) for f in ['04', '08', '13']])\n",
    "    range_feats = pd.DataFrame((np.max(empty.copy(), axis=-1) - np.min(empty.copy(), axis=-1)),\n",
    "        columns=[f'range_{window_mapping[key]}_{m}_{i}_{f}' for m in montages for i in range(128) for f in ['04', '08', '13']])\n",
    "    avg_pwr_feats = pd.DataFrame(np.sum(empty.copy() ** 2,  axis=-1) / empty.shape[2],\n",
    "        columns=[f'avg_pwr_{window_mapping[key]}_{m}_{i}_{f}' for m in montages for i in range(128) for f in ['04', '08', '13']])\n",
    "\n",
    "    nan_mask = np.isnan(empty.copy()).any(axis=-1)\n",
    "    new_values = np.sum(empty.copy() > 0,  axis=-1)\n",
    "    new_values = new_values.astype('float64')\n",
    "    new_values[nan_mask] = np.nan\n",
    "\n",
    "    samp_gt_zero_feats = pd.DataFrame(new_values,\n",
    "        columns=[f'samp_gt_zero_{window_mapping[key]}_{m}_{i}_{f}' for m in montages for i in range(128) for f in ['04', '08', '13']])\n",
    "    \n",
    "    def num_zero_crossing(arr):\n",
    "        return len(np.where(np.diff(np.signbit(arr)))[0])\n",
    "\n",
    "    nan_mask = np.isnan(empty.copy()).any(axis=-1)\n",
    "    new_values = np.apply_along_axis(num_zero_crossing, axis=-1, arr=empty.copy())\n",
    "    new_values = new_values.astype('float64')\n",
    "    new_values[nan_mask] = np.nan\n",
    "\n",
    "    zero_cross_feats = pd.DataFrame(new_values,\n",
    "        columns=[f'zero_cross_{window_mapping[key]}_{m}_{i}_{f}' for m in montages for i in range(128) for f in ['04', '08', '13']])\n",
    "    \n",
    "    feats_df = pd.concat([max_feats, min_feats, mean_feats, range_feats, avg_pwr_feats, samp_gt_zero_feats, zero_cross_feats], axis=1)\n",
    "    info_df = df[['trial_num', 'subject_id', 'trial_type', 'montage']]\n",
    "    final_df = pd.concat([info_df, feats_df], axis=1)\n",
    "    final_df.dropna(axis=1, how='all', inplace=True)\n",
    "\n",
    "    print('Writing output file...')\n",
    "    final_df.to_parquet(os.path.join(data_dir, output_fname), index=False)"
   ]
  },
  {
   "cell_type": "markdown",
   "id": "c015fd3d",
   "metadata": {},
   "source": [
    "Without CSP"
   ]
  },
  {
   "cell_type": "code",
   "execution_count": null,
   "id": "81325417",
   "metadata": {},
   "outputs": [],
   "source": [
    "data_dir = os.path.join(constants.PYTHON_DIR, 'phase_data')\n",
    "key = 'all'\n",
    "input_fname = f'phase_{key}_filt_chan.parquet'\n",
    "output_fname = f'{key}_simple_bandpower_features.parquet'\n",
    "\n",
    "extract_features(data_dir, input_fname, key, output_fname)"
   ]
  },
  {
   "cell_type": "markdown",
   "id": "8bf6d116",
   "metadata": {},
   "source": [
    "With CSP"
   ]
  },
  {
   "cell_type": "code",
   "execution_count": null,
   "id": "6a352616",
   "metadata": {},
   "outputs": [],
   "source": [
    "data_dir = os.path.join(constants.PYTHON_DIR, 'csp_transform')\n",
    "key = 'all'\n",
    "n_filters = 16\n",
    "input_fname = f'CSP_filt_{n_filters}_{key}.parquet'\n",
    "output_fname = f'simple_bandpower_features_csp_{n_filters}_{key}.parquet'\n",
    "\n",
    "extract_features(data_dir, input_fname, key, output_fname)"
   ]
  }
 ],
 "metadata": {
  "kernelspec": {
   "display_name": "Python 3.6.8 64-bit ('mindportal-WOQzsGXd': pipenv)",
   "language": "python",
   "name": "python368jvsc74a57bd0667b3fee59bbee9945fdbb944d0bc23f81bf1cd729448df9b741b54d57013d75"
  },
  "language_info": {
   "codemirror_mode": {
    "name": "ipython",
    "version": 3
   },
   "file_extension": ".py",
   "mimetype": "text/x-python",
   "name": "python",
   "nbconvert_exporter": "python",
   "pygments_lexer": "ipython3",
   "version": "3.6.8"
  }
 },
 "nbformat": 4,
 "nbformat_minor": 5
}
