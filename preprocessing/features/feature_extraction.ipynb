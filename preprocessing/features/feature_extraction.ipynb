{
 "cells": [
  {
   "cell_type": "code",
   "execution_count": 1,
   "id": "16125395-3215-4d47-862c-7816ab40c1dd",
   "metadata": {},
   "outputs": [],
   "source": [
    "import os\n",
    "from tqdm.notebook import tqdm\n",
    "\n",
    "import numpy as np\n",
    "import pandas as pd\n",
    "import scipy.io as sio\n",
    "import matplotlib.pyplot as plt\n",
    "\n",
    "from utils import constants"
   ]
  },
  {
   "cell_type": "markdown",
   "id": "10fbf07c-3cec-4a09-ae98-0cfc6472e7b6",
   "metadata": {},
   "source": [
    "Load pre-processed data file and isolate phase data"
   ]
  },
  {
   "cell_type": "code",
   "execution_count": 60,
   "id": "093ddda2-9c47-4e7f-9af9-d56a4f97a710",
   "metadata": {},
   "outputs": [],
   "source": [
    "data_dir = constants.PYTHON_DIR\n",
    "\n",
    "all_data = pd.read_parquet(os.path.join(data_dir, 'all_filt_chan.parquet'))"
   ]
  },
  {
   "cell_type": "code",
   "execution_count": 42,
   "id": "aa117d38-fd20-418c-8e7c-bac0f56ec871",
   "metadata": {},
   "outputs": [],
   "source": [
    "# Filter phase features only\n",
    "ph_data = all_data[[c for c in all_data.columns if ('ac_' not in c) and ('dc_' not in c)]]\n",
    "\n",
    "ph_data.to_parquet(os.path.join(data_dir, 'phase_filt_chan.parquet'), index=False)"
   ]
  },
  {
   "cell_type": "markdown",
   "id": "a640d873-bc3d-403e-baf8-680bbd8484d3",
   "metadata": {},
   "source": [
    "We can either work with the RT window or the full signal"
   ]
  },
  {
   "cell_type": "code",
   "execution_count": 61,
   "id": "26fd6ea8-9f3e-4606-8df7-510b164c1b83",
   "metadata": {},
   "outputs": [],
   "source": [
    "ph_data = pd.read_parquet(os.path.join(data_dir, 'phase_filt_chan.parquet'))\n",
    "\n",
    "ph_data = ph_data.rename({'trial_num_04': 'trial_num',\n",
    "                          'subject_id_04': 'subject_id',\n",
    "                          'trial_type_04': 'trial_type',\n",
    "                          'montage_04': 'montage'}, axis=1)\n",
    "ph_data = ph_data.drop(['trial_num_08', 'subject_id_08', 'trial_type_08', 'montage_08',\n",
    "                        'trial_num_13', 'subject_id_13', 'trial_type_13', 'montage_13'], axis=1)"
   ]
  },
  {
   "cell_type": "code",
   "execution_count": 63,
   "id": "416d3a24-868b-4418-b580-8a29fda34300",
   "metadata": {},
   "outputs": [],
   "source": [
    "# Utilize only the full signal\n",
    "ph_all = ph_data[[c for c in ph_data.columns if c.split('_')[0] == 'ph']]\n",
    "\n",
    "ph_all.to_parquet(os.path.join(data_dir, 'phase_all_filt_chan.parquet'), index=False)"
   ]
  },
  {
   "cell_type": "code",
   "execution_count": 62,
   "id": "03b3642a-4a8a-41ef-9862-5c1ae42153a2",
   "metadata": {},
   "outputs": [],
   "source": [
    "# Filter RT window for phase data only\n",
    "ph_RT = ph_data[[c for c in ph_data.columns if c.split('_')[0] == 'ph-rt'] + ['trial_num', 'subject_id', 'trial_type', 'montage']]\n",
    "\n",
    "ph_RT.to_parquet(os.path.join(data_dir, 'phase_RT_filt_chan.parquet'), index=False)"
   ]
  },
  {
   "cell_type": "code",
   "execution_count": null,
   "metadata": {},
   "outputs": [],
   "source": [
    "# Filter pre-stim window for phase data only\n",
    "ph_pre_stim = ph_data[[c for c in ph_data.columns if c.split('_')[0] == 'ph-pre-stim'] + ['trial_num', 'subject_id', 'trial_type', 'montage']]\n",
    "\n",
    "ph_pre_stim.to_parquet(os.path.join(data_dir, 'phase_pre_stim_filt_chan.parquet'), index=False)"
   ]
  },
  {
   "cell_type": "code",
   "execution_count": null,
   "metadata": {},
   "outputs": [],
   "source": [
    "# Filter initial response window for phase data only\n",
    "ph_init = ph_data[[c for c in ph_data.columns if c.split('_')[0] == 'ph-init'] + ['trial_num', 'subject_id', 'trial_type', 'montage']]\n",
    "\n",
    "ph_init.to_parquet(os.path.join(data_dir, 'phase_init_filt_chan.parquet'), index=False)"
   ]
  },
  {
   "cell_type": "code",
   "execution_count": null,
   "metadata": {},
   "outputs": [],
   "source": [
    "# Filter pre-RT window for phase data only\n",
    "ph_pre_RT = ph_data[[c for c in ph_data.columns if c.split('_')[0] == 'ph-pre-rt'] + ['trial_num', 'subject_id', 'trial_type', 'montage']]\n",
    "\n",
    "ph_pre_RT.to_parquet(os.path.join(data_dir, 'phase_pre_RT_filt_chan.parquet'), index=False)"
   ]
  },
  {
   "cell_type": "code",
   "execution_count": null,
   "metadata": {},
   "outputs": [],
   "source": [
    "# Filter post-RT window for phase data only\n",
    "ph_post_RT = ph_data[[c for c in ph_data.columns if c.split('_')[0] == 'ph-post-rt'] + ['trial_num', 'subject_id', 'trial_type', 'montage']]\n",
    "\n",
    "ph_post_RT.to_parquet(os.path.join(data_dir, 'phase_post_RT_filt_chan.parquet'), index=False)"
   ]
  },
  {
   "cell_type": "markdown",
   "id": "e2b3aae9-f62c-4623-8747-0ca6c87d54f5",
   "metadata": {},
   "source": [
    "# Extract band power features"
   ]
  },
  {
   "cell_type": "code",
   "execution_count": null,
   "metadata": {},
   "outputs": [],
   "source": [
    "data_dir = constants.PYTHON_DIR\n",
    "montages = ['a', 'b', 'c', 'd', 'e', 'f', 'g', 'h']\n",
    "\n",
    "window_mapping = {\n",
    "    'all': 'ph',\n",
    "    'rt': 'ph-rt',\n",
    "    'pre-stim': 'ph-pre-stim',\n",
    "    'init': 'ph-init',\n",
    "    'pre-rt': 'ph-pre-rt',\n",
    "    'post-rt': 'ph-post-rt'\n",
    "}\n",
    "\n",
    "def extract_features(data_dir, input_fname, key, output_fname):\n",
    "\n",
    "    df = pd.read_parquet(os.path.join(data_dir, input_fname))\n",
    "\n",
    "    orig = df[[f'{window_mapping[key]}_{m}_{i}_{f}' for m in montages for i in range(128) for f in ['04', '08', '13']]].values\n",
    "    empty = np.zeros((orig.shape[0], orig.shape[1], len(orig[0, 0])))\n",
    "\n",
    "    for i in range(orig.shape[0]):\n",
    "        for j in range(orig.shape[1]):\n",
    "            empty[i, j, :] = orig[i, j]\n",
    "    max_feats = pd.DataFrame(np.max(empty.copy(), axis=-1),\n",
    "        columns=[f'max_{window_mapping[key]}_{m}_{i}_{f}' for m in montages for i in range(128) for f in ['04', '08', '13']])\n",
    "    min_feats = pd.DataFrame(np.min(empty.copy(), axis=-1),\n",
    "        columns=[f'min_{window_mapping[key]}_{m}_{i}_{f}' for m in montages for i in range(128) for f in ['04', '08', '13']])\n",
    "    mean_feats = pd.DataFrame(np.mean(empty.copy(), axis=-1),\n",
    "        columns=[f'mean_{window_mapping[key]}_{m}_{i}_{f}' for m in montages for i in range(128) for f in ['04', '08', '13']])\n",
    "    range_feats = pd.DataFrame((np.max(empty.copy(), axis=-1) - np.min(empty.copy(), axis=-1)),\n",
    "        columns=[f'range_{window_mapping[key]}_{m}_{i}_{f}' for m in montages for i in range(128) for f in ['04', '08', '13']])\n",
    "    avg_pwr_feats = pd.DataFrame(np.sum(empty.copy() ** 2,  axis=-1) / empty.shape[2],\n",
    "        columns=[f'avg_pwr_{window_mapping[key]}_{m}_{i}_{f}' for m in montages for i in range(128) for f in ['04', '08', '13']])\n",
    "\n",
    "    nan_mask = np.isnan(empty.copy()).any(axis=-1)\n",
    "    new_values = np.sum(empty.copy() > 0,  axis=-1)\n",
    "    new_values = new_values.astype('float64')\n",
    "    new_values[nan_mask] = np.nan\n",
    "\n",
    "    samp_gt_zero_feats = pd.DataFrame(new_values,\n",
    "        columns=[f'samp_gt_zero_{window_mapping[key]}_{m}_{i}_{f}' for m in montages for i in range(128) for f in ['04', '08', '13']])\n",
    "    \n",
    "    def num_zero_crossing(arr):\n",
    "        return len(np.where(np.diff(np.signbit(arr)))[0])\n",
    "\n",
    "    nan_mask = np.isnan(empty.copy()).any(axis=-1)\n",
    "    new_values = np.apply_along_axis(num_zero_crossing, axis=-1, arr=empty.copy())\n",
    "    new_values = new_values.astype('float64')\n",
    "    new_values[nan_mask] = np.nan\n",
    "\n",
    "    zero_cross_feats = pd.DataFrame(new_values,\n",
    "        columns=[f'zero_cross_{window_mapping[key]}_{m}_{i}_{f}' for m in montages for i in range(128) for f in ['04', '08', '13']])\n",
    "    \n",
    "    feats_df = pd.concat([max_feats, min_feats, mean_feats, range_feats, avg_pwr_feats, samp_gt_zero_feats, zero_cross_feats], axis=1)\n",
    "    info_df = df[['trial_num', 'subject_id', 'trial_type', 'montage']]\n",
    "    final_df = pd.concat([info_df, feats_df], axis=1)\n",
    "    final_df.dropna(axis=1, how='all', inplace=True)\n",
    "\n",
    "    print('Writing output file...')\n",
    "    final_df.to_parquet(os.path.join(data_dir, output_fname), index=False)"
   ]
  },
  {
   "cell_type": "code",
   "execution_count": null,
   "metadata": {},
   "outputs": [],
   "source": [
    "input_fname = None\n",
    "key = None\n",
    "output_fname = None\n",
    "\n",
    "extract_features(data_dir, input_fname, key, output_fname)"
   ]
  },
  {
   "cell_type": "markdown",
   "id": "11e43411-e5fd-4103-84cd-ac35498ce95a",
   "metadata": {},
   "source": [
    "# Extract band power features from full signal"
   ]
  },
  {
   "cell_type": "code",
   "execution_count": 3,
   "id": "f401b6cd-7805-4b50-9ade-1e1dbccaa6c9",
   "metadata": {},
   "outputs": [],
   "source": [
    "data_dir = '/shared/rsaas//nschiou2/EROS/python/'\n",
    "montages = ['a', 'b', 'c', 'd', 'e', 'f', 'g', 'h']\n",
    "\n",
    "df = pd.read_parquet(os.path.join(data_dir, 'phase_all_filt_chan.parquet'))"
   ]
  },
  {
   "cell_type": "code",
   "execution_count": 5,
   "id": "9e5f6ce7-15d4-4f85-9c83-a548aae90613",
   "metadata": {},
   "outputs": [],
   "source": [
    "orig = df[[f'ph_{m}_{i}_{f}' for m in montages for i in range(128) for f in ['04', '08', '13']]].values\n",
    "empty = np.zeros((orig.shape[0], orig.shape[1], len(orig[0, 0])))\n",
    "\n",
    "for i in range(orig.shape[0]):\n",
    "    for j in range(orig.shape[1]):\n",
    "        empty[i, j, :] = orig[i, j]\n",
    "max_feats = pd.DataFrame(np.max(empty.copy(), axis=-1),\n",
    "                         columns=[f'max_ph_{m}_{i}_{f}' for m in montages for i in range(128) for f in ['04', '08', '13']])\n",
    "min_feats = pd.DataFrame(np.min(empty.copy(), axis=-1),\n",
    "                         columns=[f'min_ph_{m}_{i}_{f}' for m in montages for i in range(128) for f in ['04', '08', '13']])\n",
    "mean_feats = pd.DataFrame(np.mean(empty.copy(), axis=-1),\n",
    "                          columns=[f'mean_ph_{m}_{i}_{f}' for m in montages for i in range(128) for f in ['04', '08', '13']])\n",
    "range_feats = pd.DataFrame((np.max(empty.copy(), axis=-1) - np.min(empty.copy(), axis=-1)),\n",
    "                           columns=[f'range_ph_{m}_{i}_{f}' for m in montages for i in range(128) for f in ['04', '08', '13']])\n",
    "avg_pwr_feats = pd.DataFrame(np.sum(empty.copy() ** 2,  axis=-1) / empty.shape[2],\n",
    "                             columns=[f'avg_pwr_ph_{m}_{i}_{f}' for m in montages for i in range(128) for f in ['04', '08', '13']])"
   ]
  },
  {
   "cell_type": "code",
   "execution_count": 6,
   "id": "410fcdc0-f09b-4d1d-b04e-6efd6460457b",
   "metadata": {},
   "outputs": [],
   "source": [
    "nan_mask = np.isnan(empty.copy()).any(axis=-1)\n",
    "new_values = np.sum(empty.copy() > 0,  axis=-1)\n",
    "new_values = new_values.astype('float64')\n",
    "new_values[nan_mask] = np.nan\n",
    "\n",
    "samp_gt_zero_feats = pd.DataFrame(new_values,\n",
    "                                  columns=[f'samp_gt_zero_ph_{m}_{i}_{f}' for m in montages for i in range(128) for f in ['04', '08', '13']])"
   ]
  },
  {
   "cell_type": "code",
   "execution_count": 7,
   "id": "bb006fa6-0a1c-4fa1-a3b1-5db0b645fe0e",
   "metadata": {},
   "outputs": [],
   "source": [
    "def num_zero_crossing(arr):\n",
    "    return len(np.where(np.diff(np.signbit(arr)))[0])\n",
    "\n",
    "nan_mask = np.isnan(empty.copy()).any(axis=-1)\n",
    "new_values = np.apply_along_axis(num_zero_crossing, axis=-1, arr=empty.copy())\n",
    "new_values = new_values.astype('float64')\n",
    "new_values[nan_mask] = np.nan\n",
    "\n",
    "zero_cross_feats = pd.DataFrame(new_values,\n",
    "                                columns=[f'zero_cross_ph_{m}_{i}_{f}' for m in montages for i in range(128) for f in ['04', '08', '13']])"
   ]
  },
  {
   "cell_type": "code",
   "execution_count": 8,
   "id": "d008a6d6-e1fc-494e-926f-8568e7dd2d4a",
   "metadata": {},
   "outputs": [],
   "source": [
    "feats_df = pd.concat([max_feats, min_feats, mean_feats, range_feats, avg_pwr_feats, samp_gt_zero_feats, zero_cross_feats], axis=1)\n",
    "info_df = df[['trial_num', 'subject_id', 'trial_type', 'montage']]\n",
    "final_df = pd.concat([info_df, feats_df], axis=1)\n",
    "final_df.dropna(axis=1, how='all', inplace=True)"
   ]
  },
  {
   "cell_type": "code",
   "execution_count": 10,
   "id": "c00b2f3a-939a-4997-b6bd-a5b6540f779b",
   "metadata": {},
   "outputs": [],
   "source": [
    "final_df.to_parquet(os.path.join(data_dir, 'all_simple_bandpower_features.parquet'), index=False)"
   ]
  },
  {
   "cell_type": "markdown",
   "id": "b8b9f777-ae9b-4091-a266-d7de5fc08ba5",
   "metadata": {},
   "source": [
    "# With Common Spatial Pattern"
   ]
  },
  {
   "cell_type": "markdown",
   "id": "73d25a41-7bb5-4312-92e0-60ea3f881ee7",
   "metadata": {},
   "source": [
    "## Extract band power features from RT-window"
   ]
  },
  {
   "cell_type": "code",
   "execution_count": 107,
   "id": "1e655e95-d9f9-44e0-8e87-d7a4d569c9b6",
   "metadata": {},
   "outputs": [],
   "source": [
    "data_dir = '/shared/rsaas/nschiou2/EROS/python/'\n",
    "\n",
    "df = pd.read_parquet(os.path.join(data_dir, 'CSP_filt_8_RT.parquet'))"
   ]
  },
  {
   "cell_type": "code",
   "execution_count": 108,
   "id": "9ecc8e13-d9c2-4203-9a14-1f12aba45e8a",
   "metadata": {
    "collapsed": true,
    "jupyter": {
     "outputs_hidden": true
    },
    "tags": []
   },
   "outputs": [
    {
     "data": {
      "text/plain": [
       "['csp_0',\n",
       " 'csp_1',\n",
       " 'csp_10',\n",
       " 'csp_11',\n",
       " 'csp_12',\n",
       " 'csp_13',\n",
       " 'csp_14',\n",
       " 'csp_15',\n",
       " 'csp_2',\n",
       " 'csp_3',\n",
       " 'csp_4',\n",
       " 'csp_5',\n",
       " 'csp_6',\n",
       " 'csp_7',\n",
       " 'csp_8',\n",
       " 'csp_9',\n",
       " 'csp_feat_0',\n",
       " 'csp_feat_1',\n",
       " 'csp_feat_10',\n",
       " 'csp_feat_11',\n",
       " 'csp_feat_12',\n",
       " 'csp_feat_13',\n",
       " 'csp_feat_14',\n",
       " 'csp_feat_15',\n",
       " 'csp_feat_2',\n",
       " 'csp_feat_3',\n",
       " 'csp_feat_4',\n",
       " 'csp_feat_5',\n",
       " 'csp_feat_6',\n",
       " 'csp_feat_7',\n",
       " 'csp_feat_8',\n",
       " 'csp_feat_9']"
      ]
     },
     "execution_count": 108,
     "metadata": {},
     "output_type": "execute_result"
    }
   ],
   "source": [
    "[c for c in df.columns if 'csp' in c]"
   ]
  },
  {
   "cell_type": "code",
   "execution_count": 109,
   "id": "c393580e-e3c8-4b35-899f-7865eb9a0832",
   "metadata": {},
   "outputs": [],
   "source": [
    "orig = df[[c for c in df.columns if 'csp' in c]].values\n",
    "empty = np.zeros((orig.shape[0], orig.shape[1], len(orig[0, 0])))\n",
    "\n",
    "for i in range(orig.shape[0]):\n",
    "    for j in range(orig.shape[1]):\n",
    "        empty[i, j, :] = orig[i, j]\n",
    "max_feats = pd.DataFrame(np.max(empty.copy(), axis=-1),\n",
    "                         columns=[f'max_ph_rt_{c}' for c in df.columns if 'csp' in c])\n",
    "min_feats = pd.DataFrame(np.min(empty.copy(), axis=-1),\n",
    "                         columns=[f'min_ph_rt_{c}' for c in df.columns if 'csp' in c])\n",
    "mean_feats = pd.DataFrame(np.mean(empty.copy(), axis=-1),\n",
    "                          columns=[f'mean_ph_rt_{c}' for c in df.columns if 'csp' in c])\n",
    "range_feats = pd.DataFrame((np.max(empty.copy(), axis=-1) - np.min(empty.copy(), axis=-1)),\n",
    "                           columns=[f'range_ph_rt_{c}' for c in df.columns if 'csp' in c])\n",
    "avg_pwr_feats = pd.DataFrame(np.sum(empty.copy() ** 2,  axis=-1) / empty.shape[2],\n",
    "                             columns=[f'avg_pwr_ph_rt_{c}' for c in df.columns if 'csp' in c])"
   ]
  },
  {
   "cell_type": "code",
   "execution_count": 110,
   "id": "8f9cc1bc-0c3e-419d-992e-4a2c5be84004",
   "metadata": {},
   "outputs": [],
   "source": [
    "nan_mask = np.isnan(empty.copy()).any(axis=-1)\n",
    "new_values = np.sum(empty.copy() > 0,  axis=-1)\n",
    "new_values = new_values.astype('float64')\n",
    "new_values[nan_mask] = np.nan\n",
    "\n",
    "samp_gt_zero_feats = pd.DataFrame(new_values,\n",
    "                                  columns=[f'samp_gt_zero_ph_rt_{c}' for c in df.columns if 'csp' in c])"
   ]
  },
  {
   "cell_type": "code",
   "execution_count": 111,
   "id": "d17040fd-9ecb-4689-8fec-ce5360684179",
   "metadata": {},
   "outputs": [],
   "source": [
    "def num_zero_crossing(arr):\n",
    "    return len(np.where(np.diff(np.signbit(arr)))[0])\n",
    "\n",
    "nan_mask = np.isnan(empty.copy()).any(axis=-1)\n",
    "new_values = np.apply_along_axis(num_zero_crossing, axis=-1, arr=empty.copy())\n",
    "new_values = new_values.astype('float64')\n",
    "new_values[nan_mask] = np.nan\n",
    "\n",
    "zero_cross_feats = pd.DataFrame(new_values,\n",
    "                                columns=[f'zero_cross_ph_rt_{c}' for c in df.columns if 'csp' in c])"
   ]
  },
  {
   "cell_type": "code",
   "execution_count": 112,
   "id": "e62ee124-7eb0-4406-b8d2-8bca7e3cce66",
   "metadata": {},
   "outputs": [],
   "source": [
    "feats_df = pd.concat([max_feats, min_feats, mean_feats, range_feats, avg_pwr_feats, samp_gt_zero_feats, zero_cross_feats], axis=1)\n",
    "info_df = df[['trial_num', 'subject_id', 'trial_type', 'montage']]\n",
    "final_df = pd.concat([info_df, feats_df], axis=1)"
   ]
  },
  {
   "cell_type": "code",
   "execution_count": 113,
   "id": "f945d069-22dd-4bc4-ba10-4e504ab14524",
   "metadata": {},
   "outputs": [],
   "source": [
    "final_df.to_parquet(os.path.join(data_dir, 'simple_bandpower_features_csp_8_rt.parquet'), index=False)"
   ]
  },
  {
   "cell_type": "markdown",
   "id": "80c2898f-8706-4583-9c03-2c416da0617a",
   "metadata": {},
   "source": [
    "## Extract band power features from full signal"
   ]
  },
  {
   "cell_type": "code",
   "execution_count": 114,
   "id": "8664dab5-39d4-4e8d-8cdd-b014f29df0d7",
   "metadata": {},
   "outputs": [],
   "source": [
    "data_dir = '/shared/rsaas/nschiou2/EROS/python/'\n",
    "\n",
    "df = pd.read_parquet(os.path.join(data_dir, 'CSP_filt_8_all.parquet'))"
   ]
  },
  {
   "cell_type": "code",
   "execution_count": 115,
   "id": "f58132f9-f153-41c1-a20b-aa47f2b0744c",
   "metadata": {
    "collapsed": true,
    "jupyter": {
     "outputs_hidden": true
    },
    "tags": []
   },
   "outputs": [
    {
     "data": {
      "text/plain": [
       "['csp_0',\n",
       " 'csp_1',\n",
       " 'csp_10',\n",
       " 'csp_11',\n",
       " 'csp_12',\n",
       " 'csp_13',\n",
       " 'csp_14',\n",
       " 'csp_15',\n",
       " 'csp_2',\n",
       " 'csp_3',\n",
       " 'csp_4',\n",
       " 'csp_5',\n",
       " 'csp_6',\n",
       " 'csp_7',\n",
       " 'csp_8',\n",
       " 'csp_9',\n",
       " 'csp_feat_0',\n",
       " 'csp_feat_1',\n",
       " 'csp_feat_10',\n",
       " 'csp_feat_11',\n",
       " 'csp_feat_12',\n",
       " 'csp_feat_13',\n",
       " 'csp_feat_14',\n",
       " 'csp_feat_15',\n",
       " 'csp_feat_2',\n",
       " 'csp_feat_3',\n",
       " 'csp_feat_4',\n",
       " 'csp_feat_5',\n",
       " 'csp_feat_6',\n",
       " 'csp_feat_7',\n",
       " 'csp_feat_8',\n",
       " 'csp_feat_9']"
      ]
     },
     "execution_count": 115,
     "metadata": {},
     "output_type": "execute_result"
    }
   ],
   "source": [
    "[c for c in df.columns if 'csp' in c]"
   ]
  },
  {
   "cell_type": "code",
   "execution_count": 116,
   "id": "e86de912-fdf6-42c3-a983-84ea5455757a",
   "metadata": {},
   "outputs": [],
   "source": [
    "orig = df[[c for c in df.columns if 'csp' in c]].values\n",
    "empty = np.zeros((orig.shape[0], orig.shape[1], len(orig[0, 0])))\n",
    "\n",
    "for i in range(orig.shape[0]):\n",
    "    for j in range(orig.shape[1]):\n",
    "        empty[i, j, :] = orig[i, j]\n",
    "max_feats = pd.DataFrame(np.max(empty.copy(), axis=-1),\n",
    "                         columns=[f'max_ph_{c}' for c in df.columns if 'csp' in c])\n",
    "min_feats = pd.DataFrame(np.min(empty.copy(), axis=-1),\n",
    "                         columns=[f'min_ph_{c}' for c in df.columns if 'csp' in c])\n",
    "mean_feats = pd.DataFrame(np.mean(empty.copy(), axis=-1),\n",
    "                          columns=[f'mean_ph_{c}' for c in df.columns if 'csp' in c])\n",
    "range_feats = pd.DataFrame((np.max(empty.copy(), axis=-1) - np.min(empty.copy(), axis=-1)),\n",
    "                           columns=[f'range_ph_{c}' for c in df.columns if 'csp' in c])\n",
    "avg_pwr_feats = pd.DataFrame(np.sum(empty.copy() ** 2,  axis=-1) / empty.shape[2],\n",
    "                             columns=[f'avg_pwr_ph_{c}' for c in df.columns if 'csp' in c])"
   ]
  },
  {
   "cell_type": "code",
   "execution_count": 117,
   "id": "dc9fa25b-85e3-46af-a114-83afa3e7c75a",
   "metadata": {},
   "outputs": [],
   "source": [
    "nan_mask = np.isnan(empty.copy()).any(axis=-1)\n",
    "new_values = np.sum(empty.copy() > 0,  axis=-1)\n",
    "new_values = new_values.astype('float64')\n",
    "new_values[nan_mask] = np.nan\n",
    "\n",
    "samp_gt_zero_feats = pd.DataFrame(new_values,\n",
    "                                  columns=[f'samp_gt_zero_ph_{c}' for c in df.columns if 'csp' in c])"
   ]
  },
  {
   "cell_type": "code",
   "execution_count": 118,
   "id": "63d20fbc-36be-484c-a9c0-b81d7757aa36",
   "metadata": {},
   "outputs": [],
   "source": [
    "def num_zero_crossing(arr):\n",
    "    return len(np.where(np.diff(np.signbit(arr)))[0])\n",
    "\n",
    "nan_mask = np.isnan(empty.copy()).any(axis=-1)\n",
    "new_values = np.apply_along_axis(num_zero_crossing, axis=-1, arr=empty.copy())\n",
    "new_values = new_values.astype('float64')\n",
    "new_values[nan_mask] = np.nan\n",
    "\n",
    "zero_cross_feats = pd.DataFrame(new_values,\n",
    "                                columns=[f'zero_cross_ph_{c}' for c in df.columns if 'csp' in c])"
   ]
  },
  {
   "cell_type": "code",
   "execution_count": 119,
   "id": "74f7de0c-4003-42d2-bfcf-393f34814670",
   "metadata": {},
   "outputs": [],
   "source": [
    "feats_df = pd.concat([max_feats, min_feats, mean_feats, range_feats, avg_pwr_feats, samp_gt_zero_feats, zero_cross_feats], axis=1)\n",
    "info_df = df[['trial_num', 'subject_id', 'trial_type', 'montage']]\n",
    "final_df = pd.concat([info_df, feats_df], axis=1)"
   ]
  },
  {
   "cell_type": "code",
   "execution_count": 120,
   "id": "2ca59094-d6a7-4883-8ccf-0e7b3888b930",
   "metadata": {},
   "outputs": [],
   "source": [
    "final_df.to_parquet(os.path.join(data_dir, 'simple_bandpower_features_csp_8_all.parquet'), index=False)"
   ]
  },
  {
   "cell_type": "code",
   "execution_count": null,
   "id": "b729efb7-5b06-445b-a3ea-c0c53bc95bca",
   "metadata": {},
   "outputs": [],
   "source": []
  }
 ],
 "metadata": {
  "kernelspec": {
   "display_name": "Python 3.6.8 64-bit ('mindportal-WOQzsGXd': pipenv)",
   "language": "python",
   "name": "python368jvsc74a57bd0667b3fee59bbee9945fdbb944d0bc23f81bf1cd729448df9b741b54d57013d75"
  },
  "language_info": {
   "codemirror_mode": {
    "name": "ipython",
    "version": 3
   },
   "file_extension": ".py",
   "mimetype": "text/x-python",
   "name": "python",
   "nbconvert_exporter": "python",
   "pygments_lexer": "ipython3",
   "version": "3.6.8"
  }
 },
 "nbformat": 4,
 "nbformat_minor": 5
}
