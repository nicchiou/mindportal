{
 "cells": [
  {
   "cell_type": "code",
   "execution_count": 1,
   "id": "498ea239-52b0-4891-a62a-2f08401532a0",
   "metadata": {},
   "outputs": [],
   "source": [
    "import os\n",
    "\n",
    "import numpy as np\n",
    "import pandas as pd\n",
    "\n",
    "from sklearn import svm\n",
    "\n",
    "from sklearn.feature_selection import mutual_info_classif, RFE, SequentialFeatureSelector, SelectFromModel\n",
    "from sklearn.decomposition import PCA\n",
    "from sklearn.preprocessing import StandardScaler\n",
    "from sklearn.model_selection import train_test_split\n",
    "\n",
    "from sklearn.metrics import accuracy_score, precision_score, recall_score, f1_score"
   ]
  },
  {
   "cell_type": "code",
   "execution_count": 2,
   "id": "136a324f-a1e1-4f38-b5d0-ef3e12d5120c",
   "metadata": {},
   "outputs": [],
   "source": [
    "data_dir = '/shared/rsaas/nschiou2/EROS/python/'\n",
    "\n",
    "df = pd.read_parquet(os.path.join(data_dir, 'simple_bandpower_features.parquet'))"
   ]
  },
  {
   "cell_type": "markdown",
   "id": "48d62fc1-95f1-4b34-85a2-c6500a7481b5",
   "metadata": {},
   "source": [
    "#### List subjects by ID"
   ]
  },
  {
   "cell_type": "code",
   "execution_count": 3,
   "id": "9b257692-8af0-4349-8368-0381bb9e8302",
   "metadata": {},
   "outputs": [
    {
     "data": {
      "text/plain": [
       "array(['127', '130', '146', '149', '150', '151', '152', '153', '154',\n",
       "       '155', '157', '505', '516', '527', '534'], dtype=object)"
      ]
     },
     "execution_count": 3,
     "metadata": {},
     "output_type": "execute_result"
    }
   ],
   "source": [
    "subjects = df['subject_id'].unique()\n",
    "subjects"
   ]
  },
  {
   "cell_type": "markdown",
   "id": "012521e7-5599-4056-a27b-ce7b7ac44da0",
   "metadata": {},
   "source": [
    "#### Identify number of missing channels for each montage"
   ]
  },
  {
   "cell_type": "code",
   "execution_count": 4,
   "id": "e144d8b3-f164-4428-943c-b7961f6669e3",
   "metadata": {},
   "outputs": [],
   "source": [
    "iterables = [list(subjects), ['a', 'b', 'c', 'd', 'e', 'f', 'g', 'h']]\n",
    "missing_data = pd.MultiIndex.from_product(iterables, names=['subject_id', 'montage']).to_frame()"
   ]
  },
  {
   "cell_type": "code",
   "execution_count": 5,
   "id": "74e93ed4-34b9-4cbc-ba06-7e0e9d2988b1",
   "metadata": {},
   "outputs": [],
   "source": [
    "for s in subjects:\n",
    "    subject_df = df[df['subject_id'] == s]\n",
    "    for m in subject_df['montage'].unique():\n",
    "        sub_sub_df = subject_df[subject_df['montage'] == m]\n",
    "        non_null = subject_df.loc[:, sub_sub_df.isnull().sum(axis=0) != sub_sub_df.shape[0]]\n",
    "        missing_data.loc[(s, m), 'num_avail_chan'] = (non_null.shape[1] - 4) / 3 / 7\n",
    "        missing_data.loc[(s, m), 'num_null_chan'] = (sub_sub_df.loc[:, sub_sub_df.isnull().sum(axis=0) == sub_sub_df.shape[0]].shape[1]) / 3 / 7\n",
    "    \n",
    "missing_data.drop(['subject_id', 'montage'], axis=1, inplace=True)"
   ]
  },
  {
   "cell_type": "code",
   "execution_count": 36,
   "id": "c73e2caf-6737-49de-b4ac-50b7a1b533d1",
   "metadata": {},
   "outputs": [
    {
     "data": {
      "text/html": [
       "<div>\n",
       "<style scoped>\n",
       "    .dataframe tbody tr th:only-of-type {\n",
       "        vertical-align: middle;\n",
       "    }\n",
       "\n",
       "    .dataframe tbody tr th {\n",
       "        vertical-align: top;\n",
       "    }\n",
       "\n",
       "    .dataframe thead th {\n",
       "        text-align: right;\n",
       "    }\n",
       "</style>\n",
       "<table border=\"1\" class=\"dataframe\">\n",
       "  <thead>\n",
       "    <tr style=\"text-align: right;\">\n",
       "      <th>montage</th>\n",
       "      <th>a</th>\n",
       "      <th>b</th>\n",
       "      <th>c</th>\n",
       "      <th>d</th>\n",
       "      <th>e</th>\n",
       "      <th>f</th>\n",
       "      <th>g</th>\n",
       "      <th>h</th>\n",
       "    </tr>\n",
       "  </thead>\n",
       "  <tbody>\n",
       "    <tr>\n",
       "      <th>num_avail_chan</th>\n",
       "      <td>29.6</td>\n",
       "      <td>31.511111</td>\n",
       "      <td>29.733333</td>\n",
       "      <td>30.6</td>\n",
       "      <td>35.8</td>\n",
       "      <td>27.533333</td>\n",
       "      <td>26.866667</td>\n",
       "      <td>27.2</td>\n",
       "    </tr>\n",
       "    <tr>\n",
       "      <th>num_null_chan</th>\n",
       "      <td>591.4</td>\n",
       "      <td>589.488889</td>\n",
       "      <td>591.266667</td>\n",
       "      <td>590.4</td>\n",
       "      <td>585.2</td>\n",
       "      <td>593.466667</td>\n",
       "      <td>594.133333</td>\n",
       "      <td>593.8</td>\n",
       "    </tr>\n",
       "  </tbody>\n",
       "</table>\n",
       "</div>"
      ],
      "text/plain": [
       "montage             a           b           c      d      e           f  \\\n",
       "num_avail_chan   29.6   31.511111   29.733333   30.6   35.8   27.533333   \n",
       "num_null_chan   591.4  589.488889  591.266667  590.4  585.2  593.466667   \n",
       "\n",
       "montage                  g      h  \n",
       "num_avail_chan   26.866667   27.2  \n",
       "num_null_chan   594.133333  593.8  "
      ]
     },
     "execution_count": 36,
     "metadata": {},
     "output_type": "execute_result"
    }
   ],
   "source": [
    "pd.options.display.max_rows = 120\n",
    "missing_data.groupby(['montage']).mean().T"
   ]
  },
  {
   "cell_type": "code",
   "execution_count": 38,
   "id": "5264a1e3-5388-49b6-9ded-de5267fa9172",
   "metadata": {},
   "outputs": [],
   "source": [
    "label_df = df.copy()\n",
    "\n",
    "def combine_motor_LR(x):\n",
    "    \"\"\"\n",
    "    Combines trial types for left motor responses and right motor responses.\n",
    "    \n",
    "    0 represents left and 1 represents right.\n",
    "    \"\"\"\n",
    "    if x in [2, 4, 6, 8]:\n",
    "        return 0\n",
    "    elif x in [1, 3, 5, 7]:\n",
    "        return 1\n",
    "    else:\n",
    "        return np.nan\n",
    "\n",
    "label_df.loc[:, 'label'] = label_df.loc[:, 'trial_type'].apply(combine_motor_LR)\n",
    "label_df = label_df.dropna(axis=0, subset=['label']).copy().reset_index(drop=True)  # Remove vocal response trials for now"
   ]
  },
  {
   "cell_type": "code",
   "execution_count": 46,
   "id": "67790dc3-1237-4281-80f7-9b2f7cb54fd9",
   "metadata": {},
   "outputs": [
    {
     "data": {
      "text/html": [
       "<div>\n",
       "<style scoped>\n",
       "    .dataframe tbody tr th:only-of-type {\n",
       "        vertical-align: middle;\n",
       "    }\n",
       "\n",
       "    .dataframe tbody tr th {\n",
       "        vertical-align: top;\n",
       "    }\n",
       "\n",
       "    .dataframe thead tr th {\n",
       "        text-align: left;\n",
       "    }\n",
       "</style>\n",
       "<table border=\"1\" class=\"dataframe\">\n",
       "  <thead>\n",
       "    <tr>\n",
       "      <th>subject_id</th>\n",
       "      <th colspan=\"8\" halign=\"left\">127</th>\n",
       "      <th colspan=\"2\" halign=\"left\">130</th>\n",
       "      <th>...</th>\n",
       "      <th colspan=\"2\" halign=\"left\">527</th>\n",
       "      <th colspan=\"8\" halign=\"left\">534</th>\n",
       "    </tr>\n",
       "    <tr>\n",
       "      <th>montage</th>\n",
       "      <th>a</th>\n",
       "      <th>b</th>\n",
       "      <th>c</th>\n",
       "      <th>d</th>\n",
       "      <th>e</th>\n",
       "      <th>f</th>\n",
       "      <th>g</th>\n",
       "      <th>h</th>\n",
       "      <th>a</th>\n",
       "      <th>b</th>\n",
       "      <th>...</th>\n",
       "      <th>g</th>\n",
       "      <th>h</th>\n",
       "      <th>a</th>\n",
       "      <th>b</th>\n",
       "      <th>c</th>\n",
       "      <th>d</th>\n",
       "      <th>e</th>\n",
       "      <th>f</th>\n",
       "      <th>g</th>\n",
       "      <th>h</th>\n",
       "    </tr>\n",
       "  </thead>\n",
       "  <tbody>\n",
       "    <tr>\n",
       "      <th>trial_num</th>\n",
       "      <td>228</td>\n",
       "      <td>228</td>\n",
       "      <td>228</td>\n",
       "      <td>228</td>\n",
       "      <td>209</td>\n",
       "      <td>233</td>\n",
       "      <td>236</td>\n",
       "      <td>236</td>\n",
       "      <td>229</td>\n",
       "      <td>229</td>\n",
       "      <td>...</td>\n",
       "      <td>221</td>\n",
       "      <td>233</td>\n",
       "      <td>227</td>\n",
       "      <td>227</td>\n",
       "      <td>219</td>\n",
       "      <td>231</td>\n",
       "      <td>210</td>\n",
       "      <td>233</td>\n",
       "      <td>227</td>\n",
       "      <td>227</td>\n",
       "    </tr>\n",
       "  </tbody>\n",
       "</table>\n",
       "<p>1 rows × 120 columns</p>\n",
       "</div>"
      ],
      "text/plain": [
       "subject_id  127                                     130       ...  527       \\\n",
       "montage       a    b    c    d    e    f    g    h    a    b  ...    g    h   \n",
       "trial_num   228  228  228  228  209  233  236  236  229  229  ...  221  233   \n",
       "\n",
       "subject_id  534                                     \n",
       "montage       a    b    c    d    e    f    g    h  \n",
       "trial_num   227  227  219  231  210  233  227  227  \n",
       "\n",
       "[1 rows x 120 columns]"
      ]
     },
     "execution_count": 46,
     "metadata": {},
     "output_type": "execute_result"
    }
   ],
   "source": [
    "pd.DataFrame(label_df.groupby(['subject_id', 'montage']).count()['trial_num']).T"
   ]
  },
  {
   "cell_type": "markdown",
   "id": "1c9ef700-4b8d-411b-801e-7abe29686469",
   "metadata": {},
   "source": [
    "### Choose example subject"
   ]
  },
  {
   "cell_type": "code",
   "execution_count": 24,
   "id": "31168b35-7a13-4e8d-bff8-59d323cc3040",
   "metadata": {},
   "outputs": [
    {
     "name": "stdout",
     "output_type": "stream",
     "text": [
      "Subject 127 has 460 original examples\n"
     ]
    }
   ],
   "source": [
    "subject_id = 127\n",
    "montage = 'a'\n",
    "\n",
    "subset = df[(df['subject_id'] == str(subject_id)) & (df['montage'] == montage)].copy().reset_index(drop=True)\n",
    "print(f'Subject {subject_id} has {subset.shape[0]} original examples')"
   ]
  },
  {
   "cell_type": "markdown",
   "id": "9565f4c4-d3a5-4d83-85c3-38ac473c799a",
   "metadata": {
    "tags": []
   },
   "source": [
    "#### Identify discrete features and combine across labels"
   ]
  },
  {
   "cell_type": "code",
   "execution_count": 25,
   "id": "3dcc3d22-6879-458c-9d7d-7988de511634",
   "metadata": {},
   "outputs": [
    {
     "name": "stdout",
     "output_type": "stream",
     "text": [
      "1365 original features for montage a\n"
     ]
    }
   ],
   "source": [
    "feat_cols = np.array([c for c in subset.columns if 'ph_' in c if f'_{montage}_' in c])\n",
    "print(f'{len(feat_cols)} original features for montage {montage}')"
   ]
  },
  {
   "cell_type": "code",
   "execution_count": 26,
   "id": "399523a6-dc96-4a27-b035-16fb6207663b",
   "metadata": {},
   "outputs": [
    {
     "name": "stdout",
     "output_type": "stream",
     "text": [
      "390 discrete features for montage a\n"
     ]
    }
   ],
   "source": [
    "discrete_feats = ((np.core.defchararray.find(feat_cols, 'samp_gt_zero') != -1) | \n",
    "                  (np.core.defchararray.find(feat_cols, 'zero_cross') != -1))\n",
    "print(f'{np.count_nonzero(discrete_feats)} discrete features for montage {montage}')"
   ]
  },
  {
   "cell_type": "code",
   "execution_count": 27,
   "id": "b9cc2bfe-b4ac-4b77-b7af-5e0a4d8fa76a",
   "metadata": {},
   "outputs": [
    {
     "name": "stdout",
     "output_type": "stream",
     "text": [
      "Subject 127 has 228 motor L/R examples\n"
     ]
    }
   ],
   "source": [
    "def combine_motor_LR(x):\n",
    "    \"\"\"\n",
    "    Combines trial types for left motor responses and right motor responses.\n",
    "    \n",
    "    0 represents left and 1 represents right.\n",
    "    \"\"\"\n",
    "    if x in [2, 4, 6, 8]:\n",
    "        return 0\n",
    "    elif x in [1, 3, 5, 7]:\n",
    "        return 1\n",
    "    else:\n",
    "        return np.nan\n",
    "    \n",
    "subset.loc[:, 'label'] = subset.loc[:, 'trial_type'].apply(combine_motor_LR)\n",
    "subset = subset.dropna(axis=0, subset=['label']).copy().reset_index(drop=True)  # Remove vocal response trials for now\n",
    "print(f'Subject {subject_id} has {subset.shape[0]} motor L/R examples')"
   ]
  },
  {
   "cell_type": "code",
   "execution_count": 28,
   "id": "0b4d7931-a74e-4a38-bd69-c19efc418c26",
   "metadata": {},
   "outputs": [
    {
     "name": "stdout",
     "output_type": "stream",
     "text": [
      "21 / 441 features are based on zeroed channels\n"
     ]
    }
   ],
   "source": [
    "# Remove features that are based on zeroed channels across all trials\n",
    "subset = subset.loc[:, subset.isnull().sum(axis=0) != subset.shape[0]]\n",
    "\n",
    "# Keep track of features with zeroed channels for specific trials\n",
    "na_mask = subset.isna().any(axis=0).values\n",
    "na_cols = list(subset.columns[na_mask])\n",
    "feat_cols = np.array([c for c in subset.columns if 'ph_' in c])\n",
    "discrete_feats = ((np.core.defchararray.find(feat_cols, 'samp_gt_zero') != -1) | \n",
    "                  (np.core.defchararray.find(feat_cols, 'zero_cross') != -1))\n",
    "print(f'{np.count_nonzero(na_mask)} / {len(feat_cols)} features are based on zeroed channels')\n",
    "subset = subset.fillna(0)"
   ]
  },
  {
   "cell_type": "markdown",
   "id": "393f3020-90a2-4ed3-a762-7e9aeea35e58",
   "metadata": {},
   "source": [
    "# Without Common Spatial Pattern (CSP) Filtering"
   ]
  },
  {
   "cell_type": "markdown",
   "id": "9e1b0430-2b1e-4411-88a5-5c22500f0a24",
   "metadata": {},
   "source": [
    "### Train-test split for feature selection"
   ]
  },
  {
   "cell_type": "code",
   "execution_count": 75,
   "id": "217eaecc-abe0-49a3-bf3f-b44c428949e8",
   "metadata": {},
   "outputs": [],
   "source": [
    "X = subset[feat_cols].values\n",
    "y = subset['label'].values\n",
    "\n",
    "X_train, X_test, y_train, y_test = train_test_split(X, y, test_size=0.2, random_state=8)"
   ]
  },
  {
   "cell_type": "code",
   "execution_count": 76,
   "id": "d40bfe0a-af9c-41f8-bb27-850571e4fa81",
   "metadata": {},
   "outputs": [],
   "source": [
    "def train_eval_clf(X_train, y_train, X_test, y_test):\n",
    "    \n",
    "    # scaler = StandardScaler()\n",
    "    # scaler.fit(X_train)\n",
    "    # X_train = scaler.transform(X_train)\n",
    "    # X_test = scaler.transform(X_test)\n",
    "    \n",
    "    clf = svm.SVC()\n",
    "    clf.fit(X_train, y_train)\n",
    "    y_pred = clf.predict(X_test)\n",
    "    print('Accuracy: \\t{:.3f}'.format(accuracy_score(y_test, y_pred)))\n",
    "    print('Precision: \\t{:.3f}'.format(precision_score(y_test, y_pred)))\n",
    "    print('Recall: \\t{:.3f}'.format(recall_score(y_test, y_pred)))\n",
    "    print('F1-Score: \\t{:.3f}'.format(f1_score(y_test, y_pred)))"
   ]
  },
  {
   "cell_type": "markdown",
   "id": "87219171-90cd-4122-8f26-96d1a65853a6",
   "metadata": {},
   "source": [
    "### PCA"
   ]
  },
  {
   "cell_type": "code",
   "execution_count": 77,
   "id": "d4229541-c1c2-45d6-b2d7-6c63b23690ee",
   "metadata": {},
   "outputs": [],
   "source": [
    "pca = PCA(n_components=100)\n",
    "pca.fit(X_train)\n",
    "exp_var = pca.explained_variance_ratio_"
   ]
  },
  {
   "cell_type": "code",
   "execution_count": 78,
   "id": "a9fc5bc9-020b-47d9-97a3-90be4eccd9a8",
   "metadata": {},
   "outputs": [
    {
     "name": "stdout",
     "output_type": "stream",
     "text": [
      "Accuracy: \t0.674\n",
      "Precision: \t0.778\n",
      "Recall: \t0.560\n",
      "F1-Score: \t0.651\n"
     ]
    }
   ],
   "source": [
    "train_eval_clf(pca.transform(X_train), y_train, pca.transform(X_test), y_test)"
   ]
  },
  {
   "cell_type": "markdown",
   "id": "5b168bbe-91fb-4749-aecb-bd8ca0046c86",
   "metadata": {},
   "source": [
    "### Recursive Feature Elimination"
   ]
  },
  {
   "cell_type": "markdown",
   "id": "4ae306f1-0009-45c1-a265-181d9a24c0cc",
   "metadata": {
    "tags": []
   },
   "source": [
    "Moved to script rfe.py"
   ]
  },
  {
   "cell_type": "code",
   "execution_count": 353,
   "id": "2454fecc-d537-473e-b321-3e59bf8a2feb",
   "metadata": {},
   "outputs": [
    {
     "name": "stdout",
     "output_type": "stream",
     "text": [
      "Accuracy: \t0.522\n",
      "Precision: \t0.588\n",
      "Recall: \t0.400\n",
      "F1-Score: \t0.476\n"
     ]
    }
   ],
   "source": [
    "support = np.load(os.path.join('RFE', '300_features', '127_a_support.npy'))\n",
    "\n",
    "train_eval_clf(X_train[:, support], y_train, X_test[:, support], y_test)"
   ]
  },
  {
   "cell_type": "markdown",
   "id": "af99d5cd-a7e6-4285-8189-f08d863268c9",
   "metadata": {},
   "source": [
    "### Sequential Feature Selection (Forward)"
   ]
  },
  {
   "cell_type": "markdown",
   "id": "f06bb43c-c484-46d6-8773-dd0c3d1e987e",
   "metadata": {},
   "source": [
    "Moved to script sfs.py"
   ]
  },
  {
   "cell_type": "markdown",
   "id": "08e2c185-4972-44d9-8b27-ef157719f312",
   "metadata": {},
   "source": [
    "### Mutual Information"
   ]
  },
  {
   "cell_type": "code",
   "execution_count": 343,
   "id": "b2876ea3-fee6-4121-9c26-b11362fefaf7",
   "metadata": {},
   "outputs": [],
   "source": [
    "mi_scores = mutual_info_classif(X_train, y_train, discrete_features=discrete_feats, n_neighbors=3)\n",
    "mi_score_selected_index = np.where(mi_scores > 0.02)[0]"
   ]
  },
  {
   "cell_type": "code",
   "execution_count": 344,
   "id": "6d4b2474-c9fc-425a-9a43-ecce71a8d1a9",
   "metadata": {},
   "outputs": [
    {
     "name": "stdout",
     "output_type": "stream",
     "text": [
      "Accuracy: \t0.457\n",
      "Precision: \t0.500\n",
      "Recall: \t0.320\n",
      "F1-Score: \t0.390\n"
     ]
    }
   ],
   "source": [
    "train_eval_clf(X_train[:, mi_score_selected_index], y_train, X_test[:, mi_score_selected_index], y_test)"
   ]
  },
  {
   "cell_type": "code",
   "execution_count": 345,
   "id": "81bd4102-4598-4fde-a2e3-9ef641ef4f29",
   "metadata": {},
   "outputs": [
    {
     "name": "stdout",
     "output_type": "stream",
     "text": [
      "Selected 187 features, 9 of which are from zeroed channels\n"
     ]
    }
   ],
   "source": [
    "selected_feats = feat_cols[mi_score_selected_index]\n",
    "print(f'Selected {len(selected_feats)} features, {len(np.intersect1d(selected_feats, na_cols))} of which are from zeroed channels')"
   ]
  },
  {
   "cell_type": "markdown",
   "id": "e07dfb9a-8500-441d-ab88-6f903fdea3ef",
   "metadata": {},
   "source": [
    "### Select from tree-based classifier"
   ]
  },
  {
   "cell_type": "code",
   "execution_count": 346,
   "id": "e182bc79-dba0-438c-9f0c-76d6fca3b63f",
   "metadata": {},
   "outputs": [],
   "source": [
    "from sklearn.ensemble import ExtraTreesClassifier\n",
    "clf = ExtraTreesClassifier(n_estimators=200)\n",
    "clf = clf.fit(X_train, y_train)\n",
    "selector = SelectFromModel(clf, max_features=300, prefit=True)"
   ]
  },
  {
   "cell_type": "code",
   "execution_count": 347,
   "id": "e4939546-601e-4844-8e26-d729654551dc",
   "metadata": {},
   "outputs": [
    {
     "name": "stdout",
     "output_type": "stream",
     "text": [
      "Accuracy: \t0.609\n",
      "Precision: \t0.684\n",
      "Recall: \t0.520\n",
      "F1-Score: \t0.591\n"
     ]
    }
   ],
   "source": [
    "train_eval_clf(selector.transform(X_train), y_train, selector.transform(X_test), y_test)"
   ]
  },
  {
   "cell_type": "code",
   "execution_count": 348,
   "id": "0adbcb96-bcf3-4e7a-ab97-f87e4720ffb7",
   "metadata": {},
   "outputs": [
    {
     "name": "stdout",
     "output_type": "stream",
     "text": [
      "Selected 193 features\n"
     ]
    }
   ],
   "source": [
    "print(f'Selected {selector.transform(X_train).shape[1]} features')"
   ]
  },
  {
   "cell_type": "markdown",
   "id": "879d6fbc-d2c0-44d2-af72-9821a8a899a8",
   "metadata": {},
   "source": [
    "### Select from linear classifier"
   ]
  },
  {
   "cell_type": "code",
   "execution_count": 375,
   "id": "be93f878-c9e9-45b2-9f75-9e1972cd5b97",
   "metadata": {},
   "outputs": [],
   "source": [
    "scaler = StandardScaler()\n",
    "scaler.fit(X_train)\n",
    "X_new = scaler.transform(X_train)\n",
    "\n",
    "clf = svm.LinearSVC(C=1, penalty='l1', dual=False, max_iter=10000)\n",
    "clf = clf.fit(X_new, y_train)\n",
    "selector = SelectFromModel(clf, max_features=300, prefit=True)"
   ]
  },
  {
   "cell_type": "code",
   "execution_count": 376,
   "id": "f917b16c-77fb-43ae-85ae-76b67cabc860",
   "metadata": {},
   "outputs": [
    {
     "name": "stdout",
     "output_type": "stream",
     "text": [
      "Accuracy: \t0.478\n",
      "Precision: \t0.529\n",
      "Recall: \t0.360\n",
      "F1-Score: \t0.429\n"
     ]
    }
   ],
   "source": [
    "train_eval_clf(selector.transform(X_train), y_train, selector.transform(X_test), y_test)"
   ]
  },
  {
   "cell_type": "code",
   "execution_count": 377,
   "id": "1dea73fd-5a38-4922-99ea-42fa103cc7e5",
   "metadata": {},
   "outputs": [
    {
     "name": "stdout",
     "output_type": "stream",
     "text": [
      "Selected 130 features\n"
     ]
    }
   ],
   "source": [
    "print(f'Selected {selector.transform(X_train).shape[1]} features')"
   ]
  },
  {
   "cell_type": "code",
   "execution_count": null,
   "id": "fa0d15ef-8332-4472-9122-84f97777d6b8",
   "metadata": {},
   "outputs": [],
   "source": []
  }
 ],
 "metadata": {
  "kernelspec": {
   "display_name": "Python 3.6.8 64-bit ('domain_adapt_cxr-ilmJFro8': pipenv)",
   "language": "python",
   "name": "python368jvsc74a57bd0d548e83b0b28ca71444171775b3c91f545236136598938699a1416c5ca8fe191"
  },
  "language_info": {
   "codemirror_mode": {
    "name": "ipython",
    "version": 3
   },
   "file_extension": ".py",
   "mimetype": "text/x-python",
   "name": "python",
   "nbconvert_exporter": "python",
   "pygments_lexer": "ipython3",
   "version": "3.6.8"
  }
 },
 "nbformat": 4,
 "nbformat_minor": 5
}
