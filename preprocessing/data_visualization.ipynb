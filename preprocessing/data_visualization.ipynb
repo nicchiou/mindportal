{
 "cells": [
  {
   "cell_type": "code",
   "execution_count": 40,
   "metadata": {},
   "outputs": [],
   "source": [
    "import os\n",
    "\n",
    "import numpy as np\n",
    "import pandas as pd\n",
    "import scipy.io as sio\n",
    "import matplotlib.pyplot as plt"
   ]
  },
  {
   "cell_type": "markdown",
   "metadata": {},
   "source": [
    "## Let's go through an example to see what a single data file looks like"
   ]
  },
  {
   "cell_type": "code",
   "execution_count": 12,
   "metadata": {},
   "outputs": [],
   "source": [
    "# Directory where the 4-7 Hz filtered signals are stored\n",
    "data_dir = '/shared/rsaas/nschiou2/FOS/matfiles/channel_space/pc04-07avg_rs/'\n",
    "\n",
    "# Example .mat file for subject 127 montage a\n",
    "pc04 = sio.loadmat(os.path.join(data_dir, 'psc127a.avm'))"
   ]
  },
  {
   "cell_type": "markdown",
   "metadata": {},
   "source": [
    "### The header file contains information about recording"
   ]
  },
  {
   "cell_type": "code",
   "execution_count": 6,
   "metadata": {},
   "outputs": [
    {
     "data": {
      "text/plain": [
       "{'n_dig_aux': 0,\n",
       " 'n_a2d_aux': 0,\n",
       " 'n_dets': 8,\n",
       " 'n_srcs': 16,\n",
       " 'n_chans': 128,\n",
       " 'CCF': 6250,\n",
       " 'n_skipped': 2,\n",
       " 'n_waves_avg': 8,\n",
       " 'n_cycles_avg': 1,\n",
       " 'n_acq_per_wave': 8,\n",
       " 'sample_rate': 39.0625,\n",
       " 'period': 0.0256,\n",
       " 'period_ms': 25.6,\n",
       " 'n_points': 3925,\n",
       " 'record': array(['\\texmux\\t'], dtype='<U7')}"
      ]
     },
     "execution_count": 6,
     "metadata": {},
     "output_type": "execute_result"
    }
   ],
   "source": [
    "boxy_hdr = {k: v for (k, v) in zip(list(pc04['boxy_hdr'].dtype.fields), [v[0][0] for v in pc04['boxy_hdr'][0][0]])}\n",
    "fs = boxy_hdr['sample_rate']\n",
    "boxy_hdr"
   ]
  },
  {
   "cell_type": "markdown",
   "metadata": {},
   "source": [
    "## The trial data contains event information, AC, DC, and phase recordings."
   ]
  },
  {
   "cell_type": "markdown",
   "metadata": {},
   "source": [
    "### The second column of the event data corresponds with the following trial types:  \n",
    "#### Response Modality (Hand/Voice) x Switch (NoSwitch/Switch) x Stimulus Modality (Vis/Aud) x Response (R/L)\n",
    "\n",
    "1 = HNoVR:&nbsp;&nbsp;&nbsp;Manual&nbsp;&nbsp;&nbsp;NoSwitch&nbsp;&nbsp;&nbsp;Visual&nbsp;&nbsp;&nbsp;&nbsp;&nbsp;&nbsp;Right  \n",
    "2 = HNoVL:&nbsp;&nbsp;&nbsp;&nbsp;&nbsp;&nbsp;&nbsp;&nbsp;&nbsp;&nbsp;&nbsp;&nbsp;&nbsp;&nbsp;&nbsp;&nbsp;&nbsp;&nbsp;&nbsp;&nbsp;&nbsp;&nbsp;&nbsp;&nbsp;&nbsp;&nbsp;&nbsp;&nbsp;&nbsp;&nbsp;&nbsp;&nbsp;&nbsp;&nbsp;&nbsp;&nbsp;&nbsp;&nbsp;&nbsp;&nbsp;&nbsp;&nbsp;&nbsp;&nbsp;&nbsp;&nbsp;&nbsp;&nbsp;&nbsp;&nbsp;&nbsp;&nbsp;Left    \n",
    "3 = HNoAR:&nbsp;&nbsp;&nbsp;&nbsp;&nbsp;&nbsp;&nbsp;&nbsp;&nbsp;&nbsp;&nbsp;&nbsp;&nbsp;&nbsp;&nbsp;&nbsp;&nbsp;&nbsp;&nbsp;&nbsp;&nbsp;&nbsp;&nbsp;&nbsp;&nbsp;&nbsp;&nbsp;&nbsp;&nbsp;&nbsp;&nbsp;&nbsp;&nbsp;&nbsp;&nbsp;&nbsp;Auditory&nbsp;&nbsp;Right  \n",
    "4 = HNoAL:&nbsp;&nbsp;&nbsp;&nbsp;&nbsp;&nbsp;&nbsp;&nbsp;&nbsp;&nbsp;&nbsp;&nbsp;&nbsp;&nbsp;&nbsp;&nbsp;&nbsp;&nbsp;&nbsp;&nbsp;&nbsp;&nbsp;&nbsp;&nbsp;&nbsp;&nbsp;&nbsp;&nbsp;&nbsp;&nbsp;&nbsp;&nbsp;&nbsp;&nbsp;&nbsp;&nbsp;&nbsp;&nbsp;&nbsp;&nbsp;&nbsp;&nbsp;&nbsp;&nbsp;&nbsp;&nbsp;&nbsp;&nbsp;&nbsp;&nbsp;&nbsp;&nbsp;Left  \n",
    "\n",
    "5 = HSwVR:&nbsp;&nbsp;&nbsp;&nbsp;&nbsp;&nbsp;&nbsp;&nbsp;&nbsp;&nbsp;&nbsp;&nbsp;&nbsp;&nbsp;&nbsp;&nbsp;&nbsp;&nbsp;Switch&nbsp;&nbsp;&nbsp;&nbsp;&nbsp;&nbsp;&nbsp;&nbsp;Visual&nbsp;&nbsp;&nbsp;&nbsp;&nbsp;&nbsp;Right  \n",
    "6 = HSwVL:&nbsp;&nbsp;&nbsp;&nbsp;&nbsp;&nbsp;&nbsp;&nbsp;&nbsp;&nbsp;&nbsp;&nbsp;&nbsp;&nbsp;&nbsp;&nbsp;&nbsp;&nbsp;&nbsp;&nbsp;&nbsp;&nbsp;&nbsp;&nbsp;&nbsp;&nbsp;&nbsp;&nbsp;&nbsp;&nbsp;&nbsp;&nbsp;&nbsp;&nbsp;&nbsp;&nbsp;&nbsp;&nbsp;&nbsp;&nbsp;&nbsp;&nbsp;&nbsp;&nbsp;&nbsp;&nbsp;&nbsp;&nbsp;&nbsp;&nbsp;&nbsp;&nbsp;Left  \n",
    "7 = HSwAR:&nbsp;&nbsp;&nbsp;&nbsp;&nbsp;&nbsp;&nbsp;&nbsp;&nbsp;&nbsp;&nbsp;&nbsp;&nbsp;&nbsp;&nbsp;&nbsp;&nbsp;&nbsp;&nbsp;&nbsp;&nbsp;&nbsp;&nbsp;&nbsp;&nbsp;&nbsp;&nbsp;&nbsp;&nbsp;&nbsp;&nbsp;&nbsp;&nbsp;&nbsp;&nbsp;&nbsp;Auditory&nbsp;&nbsp;Right   \n",
    "8 = HSwAL:&nbsp;&nbsp;&nbsp;&nbsp;&nbsp;&nbsp;&nbsp;&nbsp;&nbsp;&nbsp;&nbsp;&nbsp;&nbsp;&nbsp;&nbsp;&nbsp;&nbsp;&nbsp;&nbsp;&nbsp;&nbsp;&nbsp;&nbsp;&nbsp;&nbsp;&nbsp;&nbsp;&nbsp;&nbsp;&nbsp;&nbsp;&nbsp;&nbsp;&nbsp;&nbsp;&nbsp;&nbsp;&nbsp;&nbsp;&nbsp;&nbsp;&nbsp;&nbsp;&nbsp;&nbsp;&nbsp;&nbsp;&nbsp;&nbsp;&nbsp;&nbsp;&nbsp;Left  \n",
    "\n",
    "9 = VNoVR:&nbsp;&nbsp;&nbsp;Vocal&nbsp;&nbsp;&nbsp;&nbsp;&nbsp;&nbsp;NoSwitch&nbsp;&nbsp;&nbsp;Visual&nbsp;&nbsp;&nbsp;&nbsp;&nbsp;&nbsp;Right  \n",
    "10= VNoVL:&nbsp;&nbsp;&nbsp;&nbsp;&nbsp;&nbsp;&nbsp;&nbsp;&nbsp;&nbsp;&nbsp;&nbsp;&nbsp;&nbsp;&nbsp;&nbsp;&nbsp;&nbsp;&nbsp;&nbsp;&nbsp;&nbsp;&nbsp;&nbsp;&nbsp;&nbsp;&nbsp;&nbsp;&nbsp;&nbsp;&nbsp;&nbsp;&nbsp;&nbsp;&nbsp;&nbsp;&nbsp;&nbsp;&nbsp;&nbsp;&nbsp;&nbsp;&nbsp;&nbsp;&nbsp;&nbsp;&nbsp;&nbsp;&nbsp;&nbsp;&nbsp;&nbsp;Left   \n",
    "11= VNoAR:&nbsp;&nbsp;&nbsp;&nbsp;&nbsp;&nbsp;&nbsp;&nbsp;&nbsp;&nbsp;&nbsp;&nbsp;&nbsp;&nbsp;&nbsp;&nbsp;&nbsp;&nbsp;&nbsp;&nbsp;&nbsp;&nbsp;&nbsp;&nbsp;&nbsp;&nbsp;&nbsp;&nbsp;&nbsp;&nbsp;&nbsp;&nbsp;&nbsp;&nbsp;&nbsp;Auditory&nbsp;&nbsp;Right  \n",
    "12= VNoAL:&nbsp;&nbsp;&nbsp;&nbsp;&nbsp;&nbsp;&nbsp;&nbsp;&nbsp;&nbsp;&nbsp;&nbsp;&nbsp;&nbsp;&nbsp;&nbsp;&nbsp;&nbsp;&nbsp;&nbsp;&nbsp;&nbsp;&nbsp;&nbsp;&nbsp;&nbsp;&nbsp;&nbsp;&nbsp;&nbsp;&nbsp;&nbsp;&nbsp;&nbsp;&nbsp;&nbsp;&nbsp;&nbsp;&nbsp;&nbsp;&nbsp;&nbsp;&nbsp;&nbsp;&nbsp;&nbsp;&nbsp;&nbsp;&nbsp;&nbsp;&nbsp;Left  \n",
    "\n",
    "13= VSwVR:&nbsp;&nbsp;&nbsp;&nbsp;&nbsp;&nbsp;&nbsp;&nbsp;&nbsp;&nbsp;&nbsp;&nbsp;&nbsp;&nbsp;&nbsp;&nbsp;&nbsp;Switch&nbsp;&nbsp;&nbsp;&nbsp;&nbsp;&nbsp;&nbsp;&nbsp;Visual&nbsp;&nbsp;&nbsp;&nbsp;&nbsp;&nbsp;Right  \n",
    "14= VSwVL:&nbsp;&nbsp;&nbsp;&nbsp;&nbsp;&nbsp;&nbsp;&nbsp;&nbsp;&nbsp;&nbsp;&nbsp;&nbsp;&nbsp;&nbsp;&nbsp;&nbsp;&nbsp;&nbsp;&nbsp;&nbsp;&nbsp;&nbsp;&nbsp;&nbsp;&nbsp;&nbsp;&nbsp;&nbsp;&nbsp;&nbsp;&nbsp;&nbsp;&nbsp;&nbsp;&nbsp;&nbsp;&nbsp;&nbsp;&nbsp;&nbsp;&nbsp;&nbsp;&nbsp;&nbsp;&nbsp;&nbsp;&nbsp;&nbsp;&nbsp;&nbsp;Left   \n",
    "15= VSwAR:&nbsp;&nbsp;&nbsp;&nbsp;&nbsp;&nbsp;&nbsp;&nbsp;&nbsp;&nbsp;&nbsp;&nbsp;&nbsp;&nbsp;&nbsp;&nbsp;&nbsp;&nbsp;&nbsp;&nbsp;&nbsp;&nbsp;&nbsp;&nbsp;&nbsp;&nbsp;&nbsp;&nbsp;&nbsp;&nbsp;&nbsp;&nbsp;&nbsp;&nbsp;Auditory&nbsp;&nbsp;Right  \n",
    "16= VSwAL:&nbsp;&nbsp;&nbsp;&nbsp;&nbsp;&nbsp;&nbsp;&nbsp;&nbsp;&nbsp;&nbsp;&nbsp;&nbsp;&nbsp;&nbsp;&nbsp;&nbsp;&nbsp;&nbsp;&nbsp;&nbsp;&nbsp;&nbsp;&nbsp;&nbsp;&nbsp;&nbsp;&nbsp;&nbsp;&nbsp;&nbsp;&nbsp;&nbsp;&nbsp;&nbsp;&nbsp;&nbsp;&nbsp;&nbsp;&nbsp;&nbsp;&nbsp;&nbsp;&nbsp;&nbsp;&nbsp;&nbsp;&nbsp;&nbsp;&nbsp;&nbsp;Left  "
   ]
  },
  {
   "cell_type": "code",
   "execution_count": 7,
   "metadata": {},
   "outputs": [
    {
     "name": "stdout",
     "output_type": "stream",
     "text": [
      "shape: (402, 2)\n"
     ]
    },
    {
     "data": {
      "text/html": [
       "<div>\n",
       "<style scoped>\n",
       "    .dataframe tbody tr th:only-of-type {\n",
       "        vertical-align: middle;\n",
       "    }\n",
       "\n",
       "    .dataframe tbody tr th {\n",
       "        vertical-align: top;\n",
       "    }\n",
       "\n",
       "    .dataframe thead th {\n",
       "        text-align: right;\n",
       "    }\n",
       "</style>\n",
       "<table border=\"1\" class=\"dataframe\">\n",
       "  <thead>\n",
       "    <tr style=\"text-align: right;\">\n",
       "      <th></th>\n",
       "      <th>event</th>\n",
       "      <th>trial_type</th>\n",
       "    </tr>\n",
       "  </thead>\n",
       "  <tbody>\n",
       "    <tr>\n",
       "      <th>0</th>\n",
       "      <td>320</td>\n",
       "      <td>14</td>\n",
       "    </tr>\n",
       "    <tr>\n",
       "      <th>1</th>\n",
       "      <td>476</td>\n",
       "      <td>11</td>\n",
       "    </tr>\n",
       "    <tr>\n",
       "      <th>2</th>\n",
       "      <td>631</td>\n",
       "      <td>8</td>\n",
       "    </tr>\n",
       "    <tr>\n",
       "      <th>3</th>\n",
       "      <td>787</td>\n",
       "      <td>16</td>\n",
       "    </tr>\n",
       "    <tr>\n",
       "      <th>4</th>\n",
       "      <td>1099</td>\n",
       "      <td>3</td>\n",
       "    </tr>\n",
       "  </tbody>\n",
       "</table>\n",
       "</div>"
      ],
      "text/plain": [
       "   event  trial_type\n",
       "0    320          14\n",
       "1    476          11\n",
       "2    631           8\n",
       "3    787          16\n",
       "4   1099           3"
      ]
     },
     "execution_count": 7,
     "metadata": {},
     "output_type": "execute_result"
    }
   ],
   "source": [
    "events = pd.DataFrame(pc04['trial_data'][0][0][0], columns=['event', 'trial_type'])\n",
    "print('shape:', events.shape)\n",
    "events.head()"
   ]
  },
  {
   "cell_type": "markdown",
   "metadata": {},
   "source": [
    "### Each of the AC/DC/phase arrays are size (156, 128, 402)\n",
    "\n",
    "156 is the number of data points in the trial   \n",
    "128 is the number of channels for this montage  \n",
    "402 is the total number of trials for this montage  "
   ]
  },
  {
   "cell_type": "code",
   "execution_count": 8,
   "metadata": {},
   "outputs": [],
   "source": [
    "dc_data = pc04['trial_data'][0][0][1]\n",
    "ac_data = pc04['trial_data'][0][0][2]\n",
    "ph_data = pc04['trial_data'][0][0][3]"
   ]
  },
  {
   "cell_type": "markdown",
   "metadata": {},
   "source": [
    "### Full four second recording"
   ]
  },
  {
   "cell_type": "code",
   "execution_count": 9,
   "metadata": {},
   "outputs": [
    {
     "data": {
      "image/png": "[encoded data removed]",
      "text/plain": [
       "<Figure size 432x288 with 1 Axes>"
      ]
     },
     "metadata": {
      "needs_background": "light"
     },
     "output_type": "display_data"
    }
   ],
   "source": [
    "channel_num = 0\n",
    "trial_num = 4\n",
    "trial_label = events.loc[trial_num, 'trial_type']\n",
    "\n",
    "plt.plot(ph_data[:, channel_num, trial_num])\n",
    "plt.xlabel('Time (samples)')\n",
    "plt.ylabel('Phase (amplitude)')\n",
    "plt.title(f'Trial Number {trial_num}, channel {channel_num}, trial type {trial_label}')\n",
    "plt.show()"
   ]
  },
  {
   "cell_type": "markdown",
   "metadata": {},
   "source": [
    "### Response time window recording (300-900 ms after response stimulus)"
   ]
  },
  {
   "cell_type": "code",
   "execution_count": 10,
   "metadata": {},
   "outputs": [
    {
     "data": {
      "image/png": "[encoded data removed]",
      "text/plain": [
       "<Figure size 432x288 with 1 Axes>"
      ]
     },
     "metadata": {
      "needs_background": "light"
     },
     "output_type": "display_data"
    }
   ],
   "source": [
    "rt_start = int(np.floor((1 + 300. / 1000) * fs))\n",
    "rt_end = int(np.ceil((1 + 900. / 1000) * fs))\n",
    "\n",
    "plt.plot(ph_data[rt_start:rt_end, channel_num, trial_num])\n",
    "plt.xlabel('Time (samples)')\n",
    "plt.ylabel('Phase (amplitude)')\n",
    "plt.title(f'RT Window - Trial Number {trial_num}, channel {channel_num}, trial type {trial_label}')\n",
    "plt.show()"
   ]
  },
  {
   "cell_type": "markdown",
   "metadata": {},
   "source": [
    "## Now let's look at a voxel_data data file"
   ]
  },
  {
   "cell_type": "code",
   "execution_count": 171,
   "metadata": {},
   "outputs": [],
   "source": [
    "# Directory where the no bandpass signals are stored\n",
    "data_dir = '/shared/rsaas/nschiou2/FOS/matfiles/voxel_space/pc0.1-12avg_rl_cropped/'\n",
    "\n",
    "# Example .mat file for subject 154 montage e\n",
    "# pc00 = sio.loadmat(os.path.join(data_dir, 'psc154e.avm'))\n",
    "\n",
    "# Example .mat file for subject 154 combined montages e and f\n",
    "pc00 = sio.loadmat(os.path.join(data_dir, 'psc154ef.avm'))\n",
    "pc00['voxel'] = pc00.pop('voxel_avg')"
   ]
  },
  {
   "cell_type": "markdown",
   "metadata": {},
   "source": [
    "### The header file contains information about recording"
   ]
  },
  {
   "cell_type": "code",
   "execution_count": 172,
   "metadata": {},
   "outputs": [
    {
     "data": {
      "text/plain": [
       "{'n_dig_aux': 0,\n",
       " 'n_a2d_aux': 0,\n",
       " 'n_dets': 8,\n",
       " 'n_srcs': 16,\n",
       " 'n_chans': 128,\n",
       " 'CCF': 6250,\n",
       " 'n_skipped': 2,\n",
       " 'n_waves_avg': 8,\n",
       " 'n_cycles_avg': 1,\n",
       " 'n_acq_per_wave': 8,\n",
       " 'sample_rate': 39.0625,\n",
       " 'period': 0.0256,\n",
       " 'period_ms': 25.6,\n",
       " 'n_points': 3925,\n",
       " 'record': array(['\\texmux\\t'], dtype='<U7')}"
      ]
     },
     "execution_count": 172,
     "metadata": {},
     "output_type": "execute_result"
    }
   ],
   "source": [
    "boxy_hdr = {k: v for (k, v) in zip(list(pc00['boxy_hdr'].dtype.fields), [v[0][0] for v in pc00['boxy_hdr'][0][0]])}\n",
    "fs = boxy_hdr['sample_rate']\n",
    "boxy_hdr"
   ]
  },
  {
   "cell_type": "markdown",
   "metadata": {},
   "source": [
    "## The trial data contains event information, AC, DC, and phase recordings."
   ]
  },
  {
   "cell_type": "markdown",
   "metadata": {},
   "source": [
    "### The second column of the event data corresponds with the following trial types:  \n",
    "#### Response Modality (Hand/Voice) x Switch (NoSwitch/Switch) x Stimulus Modality (Vis/Aud) x Response (R/L)\n",
    "\n",
    "1 = HNoVR:&nbsp;&nbsp;&nbsp;Manual&nbsp;&nbsp;&nbsp;NoSwitch&nbsp;&nbsp;&nbsp;Visual&nbsp;&nbsp;&nbsp;&nbsp;&nbsp;&nbsp;Right  \n",
    "2 = HNoVL:&nbsp;&nbsp;&nbsp;&nbsp;&nbsp;&nbsp;&nbsp;&nbsp;&nbsp;&nbsp;&nbsp;&nbsp;&nbsp;&nbsp;&nbsp;&nbsp;&nbsp;&nbsp;&nbsp;&nbsp;&nbsp;&nbsp;&nbsp;&nbsp;&nbsp;&nbsp;&nbsp;&nbsp;&nbsp;&nbsp;&nbsp;&nbsp;&nbsp;&nbsp;&nbsp;&nbsp;&nbsp;&nbsp;&nbsp;&nbsp;&nbsp;&nbsp;&nbsp;&nbsp;&nbsp;&nbsp;&nbsp;&nbsp;&nbsp;&nbsp;&nbsp;&nbsp;Left    \n",
    "3 = HNoAR:&nbsp;&nbsp;&nbsp;&nbsp;&nbsp;&nbsp;&nbsp;&nbsp;&nbsp;&nbsp;&nbsp;&nbsp;&nbsp;&nbsp;&nbsp;&nbsp;&nbsp;&nbsp;&nbsp;&nbsp;&nbsp;&nbsp;&nbsp;&nbsp;&nbsp;&nbsp;&nbsp;&nbsp;&nbsp;&nbsp;&nbsp;&nbsp;&nbsp;&nbsp;&nbsp;&nbsp;Auditory&nbsp;&nbsp;Right  \n",
    "4 = HNoAL:&nbsp;&nbsp;&nbsp;&nbsp;&nbsp;&nbsp;&nbsp;&nbsp;&nbsp;&nbsp;&nbsp;&nbsp;&nbsp;&nbsp;&nbsp;&nbsp;&nbsp;&nbsp;&nbsp;&nbsp;&nbsp;&nbsp;&nbsp;&nbsp;&nbsp;&nbsp;&nbsp;&nbsp;&nbsp;&nbsp;&nbsp;&nbsp;&nbsp;&nbsp;&nbsp;&nbsp;&nbsp;&nbsp;&nbsp;&nbsp;&nbsp;&nbsp;&nbsp;&nbsp;&nbsp;&nbsp;&nbsp;&nbsp;&nbsp;&nbsp;&nbsp;&nbsp;Left  \n",
    "\n",
    "5 = HSwVR:&nbsp;&nbsp;&nbsp;&nbsp;&nbsp;&nbsp;&nbsp;&nbsp;&nbsp;&nbsp;&nbsp;&nbsp;&nbsp;&nbsp;&nbsp;&nbsp;&nbsp;&nbsp;Switch&nbsp;&nbsp;&nbsp;&nbsp;&nbsp;&nbsp;&nbsp;&nbsp;Visual&nbsp;&nbsp;&nbsp;&nbsp;&nbsp;&nbsp;Right  \n",
    "6 = HSwVL:&nbsp;&nbsp;&nbsp;&nbsp;&nbsp;&nbsp;&nbsp;&nbsp;&nbsp;&nbsp;&nbsp;&nbsp;&nbsp;&nbsp;&nbsp;&nbsp;&nbsp;&nbsp;&nbsp;&nbsp;&nbsp;&nbsp;&nbsp;&nbsp;&nbsp;&nbsp;&nbsp;&nbsp;&nbsp;&nbsp;&nbsp;&nbsp;&nbsp;&nbsp;&nbsp;&nbsp;&nbsp;&nbsp;&nbsp;&nbsp;&nbsp;&nbsp;&nbsp;&nbsp;&nbsp;&nbsp;&nbsp;&nbsp;&nbsp;&nbsp;&nbsp;&nbsp;Left  \n",
    "7 = HSwAR:&nbsp;&nbsp;&nbsp;&nbsp;&nbsp;&nbsp;&nbsp;&nbsp;&nbsp;&nbsp;&nbsp;&nbsp;&nbsp;&nbsp;&nbsp;&nbsp;&nbsp;&nbsp;&nbsp;&nbsp;&nbsp;&nbsp;&nbsp;&nbsp;&nbsp;&nbsp;&nbsp;&nbsp;&nbsp;&nbsp;&nbsp;&nbsp;&nbsp;&nbsp;&nbsp;&nbsp;Auditory&nbsp;&nbsp;Right   \n",
    "8 = HSwAL:&nbsp;&nbsp;&nbsp;&nbsp;&nbsp;&nbsp;&nbsp;&nbsp;&nbsp;&nbsp;&nbsp;&nbsp;&nbsp;&nbsp;&nbsp;&nbsp;&nbsp;&nbsp;&nbsp;&nbsp;&nbsp;&nbsp;&nbsp;&nbsp;&nbsp;&nbsp;&nbsp;&nbsp;&nbsp;&nbsp;&nbsp;&nbsp;&nbsp;&nbsp;&nbsp;&nbsp;&nbsp;&nbsp;&nbsp;&nbsp;&nbsp;&nbsp;&nbsp;&nbsp;&nbsp;&nbsp;&nbsp;&nbsp;&nbsp;&nbsp;&nbsp;&nbsp;Left  \n",
    "\n",
    "9 = VNoVR:&nbsp;&nbsp;&nbsp;Vocal&nbsp;&nbsp;&nbsp;&nbsp;&nbsp;&nbsp;NoSwitch&nbsp;&nbsp;&nbsp;Visual&nbsp;&nbsp;&nbsp;&nbsp;&nbsp;&nbsp;Right  \n",
    "10= VNoVL:&nbsp;&nbsp;&nbsp;&nbsp;&nbsp;&nbsp;&nbsp;&nbsp;&nbsp;&nbsp;&nbsp;&nbsp;&nbsp;&nbsp;&nbsp;&nbsp;&nbsp;&nbsp;&nbsp;&nbsp;&nbsp;&nbsp;&nbsp;&nbsp;&nbsp;&nbsp;&nbsp;&nbsp;&nbsp;&nbsp;&nbsp;&nbsp;&nbsp;&nbsp;&nbsp;&nbsp;&nbsp;&nbsp;&nbsp;&nbsp;&nbsp;&nbsp;&nbsp;&nbsp;&nbsp;&nbsp;&nbsp;&nbsp;&nbsp;&nbsp;&nbsp;&nbsp;Left   \n",
    "11= VNoAR:&nbsp;&nbsp;&nbsp;&nbsp;&nbsp;&nbsp;&nbsp;&nbsp;&nbsp;&nbsp;&nbsp;&nbsp;&nbsp;&nbsp;&nbsp;&nbsp;&nbsp;&nbsp;&nbsp;&nbsp;&nbsp;&nbsp;&nbsp;&nbsp;&nbsp;&nbsp;&nbsp;&nbsp;&nbsp;&nbsp;&nbsp;&nbsp;&nbsp;&nbsp;&nbsp;Auditory&nbsp;&nbsp;Right  \n",
    "12= VNoAL:&nbsp;&nbsp;&nbsp;&nbsp;&nbsp;&nbsp;&nbsp;&nbsp;&nbsp;&nbsp;&nbsp;&nbsp;&nbsp;&nbsp;&nbsp;&nbsp;&nbsp;&nbsp;&nbsp;&nbsp;&nbsp;&nbsp;&nbsp;&nbsp;&nbsp;&nbsp;&nbsp;&nbsp;&nbsp;&nbsp;&nbsp;&nbsp;&nbsp;&nbsp;&nbsp;&nbsp;&nbsp;&nbsp;&nbsp;&nbsp;&nbsp;&nbsp;&nbsp;&nbsp;&nbsp;&nbsp;&nbsp;&nbsp;&nbsp;&nbsp;&nbsp;Left  \n",
    "\n",
    "13= VSwVR:&nbsp;&nbsp;&nbsp;&nbsp;&nbsp;&nbsp;&nbsp;&nbsp;&nbsp;&nbsp;&nbsp;&nbsp;&nbsp;&nbsp;&nbsp;&nbsp;&nbsp;Switch&nbsp;&nbsp;&nbsp;&nbsp;&nbsp;&nbsp;&nbsp;&nbsp;Visual&nbsp;&nbsp;&nbsp;&nbsp;&nbsp;&nbsp;Right  \n",
    "14= VSwVL:&nbsp;&nbsp;&nbsp;&nbsp;&nbsp;&nbsp;&nbsp;&nbsp;&nbsp;&nbsp;&nbsp;&nbsp;&nbsp;&nbsp;&nbsp;&nbsp;&nbsp;&nbsp;&nbsp;&nbsp;&nbsp;&nbsp;&nbsp;&nbsp;&nbsp;&nbsp;&nbsp;&nbsp;&nbsp;&nbsp;&nbsp;&nbsp;&nbsp;&nbsp;&nbsp;&nbsp;&nbsp;&nbsp;&nbsp;&nbsp;&nbsp;&nbsp;&nbsp;&nbsp;&nbsp;&nbsp;&nbsp;&nbsp;&nbsp;&nbsp;&nbsp;Left   \n",
    "15= VSwAR:&nbsp;&nbsp;&nbsp;&nbsp;&nbsp;&nbsp;&nbsp;&nbsp;&nbsp;&nbsp;&nbsp;&nbsp;&nbsp;&nbsp;&nbsp;&nbsp;&nbsp;&nbsp;&nbsp;&nbsp;&nbsp;&nbsp;&nbsp;&nbsp;&nbsp;&nbsp;&nbsp;&nbsp;&nbsp;&nbsp;&nbsp;&nbsp;&nbsp;&nbsp;Auditory&nbsp;&nbsp;Right  \n",
    "16= VSwAL:&nbsp;&nbsp;&nbsp;&nbsp;&nbsp;&nbsp;&nbsp;&nbsp;&nbsp;&nbsp;&nbsp;&nbsp;&nbsp;&nbsp;&nbsp;&nbsp;&nbsp;&nbsp;&nbsp;&nbsp;&nbsp;&nbsp;&nbsp;&nbsp;&nbsp;&nbsp;&nbsp;&nbsp;&nbsp;&nbsp;&nbsp;&nbsp;&nbsp;&nbsp;&nbsp;&nbsp;&nbsp;&nbsp;&nbsp;&nbsp;&nbsp;&nbsp;&nbsp;&nbsp;&nbsp;&nbsp;&nbsp;&nbsp;&nbsp;&nbsp;&nbsp;Left  "
   ]
  },
  {
   "cell_type": "code",
   "execution_count": 173,
   "metadata": {},
   "outputs": [
    {
     "name": "stdout",
     "output_type": "stream",
     "text": [
      "shape: (447, 2)\n"
     ]
    },
    {
     "data": {
      "text/html": [
       "<div>\n",
       "<style scoped>\n",
       "    .dataframe tbody tr th:only-of-type {\n",
       "        vertical-align: middle;\n",
       "    }\n",
       "\n",
       "    .dataframe tbody tr th {\n",
       "        vertical-align: top;\n",
       "    }\n",
       "\n",
       "    .dataframe thead th {\n",
       "        text-align: right;\n",
       "    }\n",
       "</style>\n",
       "<table border=\"1\" class=\"dataframe\">\n",
       "  <thead>\n",
       "    <tr style=\"text-align: right;\">\n",
       "      <th></th>\n",
       "      <th>event</th>\n",
       "      <th>trial_type</th>\n",
       "    </tr>\n",
       "  </thead>\n",
       "  <tbody>\n",
       "    <tr>\n",
       "      <th>0</th>\n",
       "      <td>337</td>\n",
       "      <td>5</td>\n",
       "    </tr>\n",
       "    <tr>\n",
       "      <th>1</th>\n",
       "      <td>496</td>\n",
       "      <td>14</td>\n",
       "    </tr>\n",
       "    <tr>\n",
       "      <th>2</th>\n",
       "      <td>665</td>\n",
       "      <td>11</td>\n",
       "    </tr>\n",
       "    <tr>\n",
       "      <th>3</th>\n",
       "      <td>808</td>\n",
       "      <td>7</td>\n",
       "    </tr>\n",
       "    <tr>\n",
       "      <th>4</th>\n",
       "      <td>966</td>\n",
       "      <td>4</td>\n",
       "    </tr>\n",
       "  </tbody>\n",
       "</table>\n",
       "</div>"
      ],
      "text/plain": [
       "   event  trial_type\n",
       "0    337           5\n",
       "1    496          14\n",
       "2    665          11\n",
       "3    808           7\n",
       "4    966           4"
      ]
     },
     "execution_count": 173,
     "metadata": {},
     "output_type": "execute_result"
    }
   ],
   "source": [
    "events = pd.DataFrame(pc00['trial_data'][0][0][0], columns=['event', 'trial_type'])\n",
    "print('shape:', events.shape)\n",
    "events.head()"
   ]
  },
  {
   "cell_type": "markdown",
   "metadata": {},
   "source": [
    "### Each of the AC/DC/phase arrays are size (56, 128, 447)\n",
    "\n",
    "56 is the number of data points in the trial   \n",
    "128 is the number of channels for this montage  \n",
    "355 is the total number of trials for this montage  "
   ]
  },
  {
   "cell_type": "code",
   "execution_count": 174,
   "metadata": {},
   "outputs": [],
   "source": [
    "dc_data = pc00['trial_data'][0][0][1]\n",
    "ac_data = pc00['trial_data'][0][0][2]\n",
    "ph_data = pc00['trial_data'][0][0][3]"
   ]
  },
  {
   "cell_type": "markdown",
   "metadata": {
    "tags": []
   },
   "source": [
    "### Each of the AC/DC/phase matrices are size (6, 7, 56, 447, 2)\n",
    "\n",
    "6 is the number of voxels in the ROI along the x-axis  \n",
    "7 is the number of voxels in the ROI along the y-axis  \n",
    "56 is the number of data points in the trial  \n",
    "477 is the total number of trials for this montage  \n",
    "2 is the number of ROIs where index 0 corresponds with the left hemisphere and index 1 corresponds with the right hemisphere"
   ]
  },
  {
   "cell_type": "code",
   "execution_count": 175,
   "metadata": {},
   "outputs": [],
   "source": [
    "dc_voxel = pc00['voxel'][0][0][0]\n",
    "ac_voxel = pc00['voxel'][0][0][1]\n",
    "ph_voxel = pc00['voxel'][0][0][2]"
   ]
  },
  {
   "cell_type": "code",
   "execution_count": 176,
   "metadata": {},
   "outputs": [
    {
     "data": {
      "image/png": "[encoded data removed]",
      "text/plain": [
       "<Figure size 1440x288 with 6 Axes>"
      ]
     },
     "metadata": {
      "needs_background": "light"
     },
     "output_type": "display_data"
    }
   ],
   "source": [
    "fig, ax = plt.subplots(1, 3, figsize=(20, 4))\n",
    "vmin = np.nanmin(ph_voxel[:, :, 30:41, 4, 0])\n",
    "vmax = np.nanmax(ph_voxel[:, :, 30:41, 4, 0])\n",
    "\n",
    "left = ax[0].imshow(ph_voxel[:, :, 30, 4, 0], vmin=vmin, vmax=vmax)\n",
    "ax[0].set_xticks(ticks=np.arange(ph_voxel.shape[1]))\n",
    "ax[0].set_yticks(ticks=np.arange(ph_voxel.shape[0]))\n",
    "ax[0].tick_params(top=True, bottom=False, labeltop=True, labelbottom=False)\n",
    "cbar = ax[0].figure.colorbar(left, ax=ax[0])\n",
    "cbar.ax.set_ylabel('', rotation=-90, va='bottom');\n",
    "\n",
    "left = ax[1].imshow(ph_voxel[:, :, 35, 4, 0], vmin=vmin, vmax=vmax)\n",
    "ax[1].set_xticks(ticks=np.arange(ph_voxel.shape[1]))\n",
    "ax[1].set_yticks(ticks=np.arange(ph_voxel.shape[0]))\n",
    "ax[1].tick_params(top=True, bottom=False, labeltop=True, labelbottom=False)\n",
    "cbar = ax[1].figure.colorbar(left, ax=ax[1])\n",
    "cbar.ax.set_ylabel('', rotation=-90, va='bottom');\n",
    "\n",
    "left = ax[2].imshow(ph_voxel[:, :, 40, 4, 0], vmin=vmin, vmax=vmax)\n",
    "ax[2].set_xticks(ticks=np.arange(ph_voxel.shape[1]))\n",
    "ax[2].set_yticks(ticks=np.arange(ph_voxel.shape[0]))\n",
    "ax[2].tick_params(top=True, bottom=False, labeltop=True, labelbottom=False)\n",
    "cbar = ax[2].figure.colorbar(left, ax=ax[2])\n",
    "cbar.ax.set_ylabel('', rotation=-90, va='bottom');"
   ]
  },
  {
   "cell_type": "markdown",
   "metadata": {},
   "source": [
    "We want to reshape these arrays so the y-coordinate corresponds with the rows and the x-coordinate corresponds with the columns"
   ]
  },
  {
   "cell_type": "code",
   "execution_count": 177,
   "metadata": {},
   "outputs": [],
   "source": [
    "dc_voxel = np.rot90(dc_voxel, axes=(0, 1))\n",
    "ac_voxel = np.rot90(ac_voxel, axes=(0, 1))\n",
    "ph_voxel = np.rot90(ph_voxel, axes=(0, 1))"
   ]
  },
  {
   "cell_type": "markdown",
   "metadata": {},
   "source": [
    "### Plot a heatmap of activations for a sequence of time points"
   ]
  },
  {
   "cell_type": "code",
   "execution_count": 178,
   "metadata": {},
   "outputs": [
    {
     "data": {
      "image/png": "[encoded data removed]",
      "text/plain": [
       "<Figure size 1296x360 with 6 Axes>"
      ]
     },
     "metadata": {
      "needs_background": "light"
     },
     "output_type": "display_data"
    }
   ],
   "source": [
    "fig, ax = plt.subplots(1, 3, figsize=(18, 5))\n",
    "vmin = np.nanmin(ph_voxel[:, :, 30:41, 4, 0])\n",
    "vmax = np.nanmax(ph_voxel[:, :, 30:41, 4, 0])\n",
    "\n",
    "left = ax[0].imshow(ph_voxel[:, :, 30, 4, 0], vmin=vmin, vmax=vmax)\n",
    "ax[0].set_xticks(ticks=np.arange(ph_voxel.shape[1]))\n",
    "ax[0].set_yticks(ticks=np.arange(ph_voxel.shape[0]))\n",
    "ax[0].tick_params(top=True, bottom=False, labeltop=True, labelbottom=False)\n",
    "cbar = ax[0].figure.colorbar(left, ax=ax[0])\n",
    "cbar.ax.set_ylabel('', rotation=-90, va='bottom');\n",
    "\n",
    "left = ax[1].imshow(ph_voxel[:, :, 35, 4, 0], vmin=vmin, vmax=vmax)\n",
    "ax[1].set_xticks(ticks=np.arange(ph_voxel.shape[1]))\n",
    "ax[1].set_yticks(ticks=np.arange(ph_voxel.shape[0]))\n",
    "ax[1].tick_params(top=True, bottom=False, labeltop=True, labelbottom=False)\n",
    "cbar = ax[1].figure.colorbar(left, ax=ax[1])\n",
    "cbar.ax.set_ylabel('', rotation=-90, va='bottom');\n",
    "\n",
    "left = ax[2].imshow(ph_voxel[:, :, 40, 4, 0], vmin=vmin, vmax=vmax)\n",
    "ax[2].set_xticks(ticks=np.arange(ph_voxel.shape[1]))\n",
    "ax[2].set_yticks(ticks=np.arange(ph_voxel.shape[0]))\n",
    "ax[2].tick_params(top=True, bottom=False, labeltop=True, labelbottom=False)\n",
    "cbar = ax[2].figure.colorbar(left, ax=ax[2])\n",
    "cbar.ax.set_ylabel('', rotation=-90, va='bottom');"
   ]
  },
  {
   "cell_type": "markdown",
   "metadata": {},
   "source": [
    "### We can do the same for the right hemisphere"
   ]
  },
  {
   "cell_type": "code",
   "execution_count": 179,
   "metadata": {},
   "outputs": [],
   "source": [
    "dc_voxel = pc00['voxel'][0][0][0]\n",
    "ac_voxel = pc00['voxel'][0][0][1]\n",
    "ph_voxel = pc00['voxel'][0][0][2]"
   ]
  },
  {
   "cell_type": "code",
   "execution_count": 180,
   "metadata": {},
   "outputs": [
    {
     "data": {
      "image/png": "[encoded data removed]",
      "text/plain": [
       "<Figure size 1440x288 with 6 Axes>"
      ]
     },
     "metadata": {
      "needs_background": "light"
     },
     "output_type": "display_data"
    }
   ],
   "source": [
    "fig, ax = plt.subplots(1, 3, figsize=(20, 4))\n",
    "vmin = np.nanmin(ph_voxel[:, :, 30:41, 4, 0])\n",
    "vmax = np.nanmax(ph_voxel[:, :, 30:41, 4, 0])\n",
    "\n",
    "left = ax[0].imshow(ph_voxel[:, :, 30, 4, 1], vmin=vmin, vmax=vmax)\n",
    "ax[0].set_xticks(ticks=np.arange(ph_voxel.shape[1]))\n",
    "ax[0].set_yticks(ticks=np.arange(ph_voxel.shape[0]))\n",
    "ax[0].tick_params(top=True, bottom=False, labeltop=True, labelbottom=False)\n",
    "cbar = ax[0].figure.colorbar(left, ax=ax[0])\n",
    "cbar.ax.set_ylabel('', rotation=-90, va='bottom');\n",
    "\n",
    "left = ax[1].imshow(ph_voxel[:, :, 35, 4, 1], vmin=vmin, vmax=vmax)\n",
    "ax[1].set_xticks(ticks=np.arange(ph_voxel.shape[1]))\n",
    "ax[1].set_yticks(ticks=np.arange(ph_voxel.shape[0]))\n",
    "ax[1].tick_params(top=True, bottom=False, labeltop=True, labelbottom=False)\n",
    "cbar = ax[1].figure.colorbar(left, ax=ax[1])\n",
    "cbar.ax.set_ylabel('', rotation=-90, va='bottom');\n",
    "\n",
    "left = ax[2].imshow(ph_voxel[:, :, 40, 4, 1], vmin=vmin, vmax=vmax)\n",
    "ax[2].set_xticks(ticks=np.arange(ph_voxel.shape[1]))\n",
    "ax[2].set_yticks(ticks=np.arange(ph_voxel.shape[0]))\n",
    "ax[2].tick_params(top=True, bottom=False, labeltop=True, labelbottom=False)\n",
    "cbar = ax[2].figure.colorbar(left, ax=ax[2])\n",
    "cbar.ax.set_ylabel('', rotation=-90, va='bottom');"
   ]
  },
  {
   "cell_type": "code",
   "execution_count": 181,
   "metadata": {},
   "outputs": [],
   "source": [
    "dc_voxel = np.rot90(dc_voxel, axes=(0, 1))\n",
    "ac_voxel = np.rot90(ac_voxel, axes=(0, 1))\n",
    "ph_voxel = np.rot90(ph_voxel, axes=(0, 1))"
   ]
  },
  {
   "cell_type": "markdown",
   "metadata": {},
   "source": [
    "### Plot a heatmap of activations for a sequence of time points"
   ]
  },
  {
   "cell_type": "code",
   "execution_count": 182,
   "metadata": {},
   "outputs": [
    {
     "data": {
      "image/png": "[encoded data removed]",
      "text/plain": [
       "<Figure size 1296x360 with 6 Axes>"
      ]
     },
     "metadata": {
      "needs_background": "light"
     },
     "output_type": "display_data"
    }
   ],
   "source": [
    "fig, ax = plt.subplots(1, 3, figsize=(18, 5))\n",
    "vmin = np.nanmin(ph_voxel[:, :, 30:41, 4, 0])\n",
    "vmax = np.nanmax(ph_voxel[:, :, 30:41, 4, 0])\n",
    "\n",
    "left = ax[0].imshow(ph_voxel[:, :, 30, 4, 1], vmin=vmin, vmax=vmax)\n",
    "ax[0].set_xticks(ticks=np.arange(ph_voxel.shape[1]))\n",
    "ax[0].set_yticks(ticks=np.arange(ph_voxel.shape[0]))\n",
    "ax[0].tick_params(top=True, bottom=False, labeltop=True, labelbottom=False)\n",
    "cbar = ax[0].figure.colorbar(left, ax=ax[0])\n",
    "cbar.ax.set_ylabel('', rotation=-90, va='bottom');\n",
    "\n",
    "left = ax[1].imshow(ph_voxel[:, :, 35, 4, 1], vmin=vmin, vmax=vmax)\n",
    "ax[1].set_xticks(ticks=np.arange(ph_voxel.shape[1]))\n",
    "ax[1].set_yticks(ticks=np.arange(ph_voxel.shape[0]))\n",
    "ax[1].tick_params(top=True, bottom=False, labeltop=True, labelbottom=False)\n",
    "cbar = ax[1].figure.colorbar(left, ax=ax[1])\n",
    "cbar.ax.set_ylabel('', rotation=-90, va='bottom');\n",
    "\n",
    "left = ax[2].imshow(ph_voxel[:, :, 40, 4, 1], vmin=vmin, vmax=vmax)\n",
    "ax[2].set_xticks(ticks=np.arange(ph_voxel.shape[1]))\n",
    "ax[2].set_yticks(ticks=np.arange(ph_voxel.shape[0]))\n",
    "ax[2].tick_params(top=True, bottom=False, labeltop=True, labelbottom=False)\n",
    "cbar = ax[2].figure.colorbar(left, ax=ax[2])\n",
    "cbar.ax.set_ylabel('', rotation=-90, va='bottom');"
   ]
  },
  {
   "cell_type": "markdown",
   "metadata": {},
   "source": [
    "## Flatten 2D matrix into 1D (ROI)"
   ]
  },
  {
   "cell_type": "markdown",
   "metadata": {},
   "source": [
    "If we were to flatten these 2D ROIs by taking voxels along the positive y-direction and then along the positive x-direction, it would look something like this:"
   ]
  },
  {
   "cell_type": "code",
   "execution_count": 183,
   "metadata": {},
   "outputs": [
    {
     "data": {
      "text/plain": [
       "(7, 6, 2)"
      ]
     },
     "execution_count": 183,
     "metadata": {},
     "output_type": "execute_result"
    }
   ],
   "source": [
    "curr_data = ph_voxel[:, :, 30, 4, :]\n",
    "curr_data.shape"
   ]
  },
  {
   "cell_type": "code",
   "execution_count": 184,
   "metadata": {},
   "outputs": [
    {
     "data": {
      "image/png": "[encoded data removed]",
      "text/plain": [
       "<Figure size 432x288 with 2 Axes>"
      ]
     },
     "metadata": {
      "needs_background": "light"
     },
     "output_type": "display_data"
    }
   ],
   "source": [
    "fig, ax = plt.subplots()\n",
    "\n",
    "left = ax.imshow(curr_data[:, :, 0])\n",
    "ax.set_xticks(ticks=np.arange(ph_voxel.shape[1]))\n",
    "ax.set_yticks(ticks=np.arange(ph_voxel.shape[0]))\n",
    "ax.tick_params(top=True, bottom=False, labeltop=True, labelbottom=False)\n",
    "cbar = ax.figure.colorbar(left, ax=ax)\n",
    "cbar.ax.set_ylabel('', rotation=-90, va='bottom');"
   ]
  },
  {
   "cell_type": "markdown",
   "metadata": {},
   "source": [
    "Need to flip vertically to start indexing from the bottom"
   ]
  },
  {
   "cell_type": "code",
   "execution_count": 185,
   "metadata": {},
   "outputs": [],
   "source": [
    "curr_data = curr_data[::-1, :, :]"
   ]
  },
  {
   "cell_type": "code",
   "execution_count": 186,
   "metadata": {},
   "outputs": [
    {
     "data": {
      "image/png": "[encoded data removed]",
      "text/plain": [
       "<Figure size 432x288 with 2 Axes>"
      ]
     },
     "metadata": {
      "needs_background": "light"
     },
     "output_type": "display_data"
    }
   ],
   "source": [
    "fig, ax = plt.subplots()\n",
    "\n",
    "left = ax.imshow(curr_data[:, :, 0])\n",
    "ax.set_xticks(ticks=np.arange(ph_voxel.shape[1]))\n",
    "ax.set_yticks(ticks=np.arange(ph_voxel.shape[0]))\n",
    "ax.set_yticklabels(labels=np.arange(ph_voxel.shape[0] - 1, -1, -1))\n",
    "cbar = ax.figure.colorbar(left, ax=ax)\n",
    "cbar.ax.set_ylabel('', rotation=-90, va='bottom');"
   ]
  },
  {
   "cell_type": "code",
   "execution_count": 187,
   "metadata": {},
   "outputs": [],
   "source": [
    "left = curr_data[:, :, 0].flatten('F')\n",
    "right = curr_data[:, :, 1].flatten('F')"
   ]
  },
  {
   "cell_type": "markdown",
   "metadata": {},
   "source": [
    "## Let's store the single-trial voxel data so it's ready for input into the model"
   ]
  },
  {
   "cell_type": "code",
   "execution_count": 188,
   "metadata": {},
   "outputs": [
    {
     "data": {
      "text/plain": [
       "(7, 6, 56, 2)"
      ]
     },
     "execution_count": 188,
     "metadata": {},
     "output_type": "execute_result"
    }
   ],
   "source": [
    "curr_data = ph_voxel[:, :, :, 4, :]\n",
    "curr_data.shape"
   ]
  },
  {
   "cell_type": "code",
   "execution_count": 189,
   "metadata": {},
   "outputs": [],
   "source": [
    "# Flip so we can index starting from the bottom-left\n",
    "curr_data = curr_data[::-1, :, :, :]"
   ]
  },
  {
   "cell_type": "code",
   "execution_count": 190,
   "metadata": {},
   "outputs": [
    {
     "data": {
      "text/plain": [
       "(6, 7, 56, 2)"
      ]
     },
     "execution_count": 190,
     "metadata": {},
     "output_type": "execute_result"
    }
   ],
   "source": [
    "# Transpose y (row) and x (col) dimensions so we can use a simple reshape operation to flatten dimensions\n",
    "curr_data = np.transpose(curr_data, (1, 0, 2, 3))\n",
    "curr_data.shape"
   ]
  },
  {
   "cell_type": "code",
   "execution_count": 191,
   "metadata": {},
   "outputs": [
    {
     "data": {
      "text/plain": [
       "(42, 56, 2)"
      ]
     },
     "execution_count": 191,
     "metadata": {},
     "output_type": "execute_result"
    }
   ],
   "source": [
    "# Flatten 2D voxel representation into 1D, taking voxels in the positive y-direction then positive x-direction\n",
    "voxel_input = curr_data.reshape((-1, curr_data.shape[2], curr_data.shape[3]))\n",
    "voxel_input.shape"
   ]
  },
  {
   "cell_type": "code",
   "execution_count": 192,
   "metadata": {},
   "outputs": [
    {
     "data": {
      "text/plain": [
       "((42, 56), (42, 56))"
      ]
     },
     "execution_count": 192,
     "metadata": {},
     "output_type": "execute_result"
    }
   ],
   "source": [
    "left = voxel_input[:, :, 0]\n",
    "right = voxel_input[:, :, 1]\n",
    "left.shape, right.shape"
   ]
  },
  {
   "cell_type": "code",
   "execution_count": 193,
   "metadata": {},
   "outputs": [
    {
     "data": {
      "text/plain": [
       "(84, 56)"
      ]
     },
     "execution_count": 193,
     "metadata": {},
     "output_type": "execute_result"
    }
   ],
   "source": [
    "# Concatenate left and right hemisphere data\n",
    "combined_lr = np.concatenate([left, right], axis=0)\n",
    "combined_lr.shape"
   ]
  },
  {
   "cell_type": "markdown",
   "metadata": {},
   "source": [
    "# Data Pre-Processing into Pandas DataFrame"
   ]
  },
  {
   "cell_type": "markdown",
   "metadata": {},
   "source": [
    "## Store event, trial type, and AC/DC/phase data in Pandas DataFrame"
   ]
  },
  {
   "cell_type": "markdown",
   "metadata": {},
   "source": [
    "Higher-level organization:\n",
    "* Subject ID\n",
    "* Montage type\n",
    "* Frequency band\n",
    "\n",
    "Lower-level organization:\n",
    "* AC/DC/phase can be stored in lists\n",
    "* Event and trial type as columns\n",
    "* Header information"
   ]
  },
  {
   "cell_type": "markdown",
   "metadata": {},
   "source": [
    "Moved to script"
   ]
  },
  {
   "cell_type": "code",
   "execution_count": 2,
   "metadata": {},
   "outputs": [],
   "source": [
    "data_dir = '/home/nschiou2/EROS/python/'\n",
    "\n",
    "all_data = pd.read_parquet(os.path.join(data_dir, 'all_single_trial_filt_chan.parquet'))"
   ]
  },
  {
   "cell_type": "code",
   "execution_count": 18,
   "metadata": {},
   "outputs": [],
   "source": [
    "# Filter phase features only\n",
    "ph_data = all_data[[c for c in all_data.columns if ('ac_' not in c) and ('dc_' not in c)]]\n",
    "\n",
    "ph_data.to_parquet(os.path.join(data_dir, 'phase_filt_chan.parquet'), index=False)"
   ]
  },
  {
   "cell_type": "code",
   "execution_count": 20,
   "metadata": {},
   "outputs": [],
   "source": [
    "# Filter RT window for phase data only\n",
    "ph_RT = ph_data[[c for c in ph_data.columns if 'rt_' in c]]\n",
    "\n",
    "ph_RT.to_parquet(os.path.join(data_dir, 'phase_RT_filt_chan.parquet'), index=False)"
   ]
  },
  {
   "cell_type": "markdown",
   "metadata": {},
   "source": [
    "# Visualize CSP-transformed signals"
   ]
  },
  {
   "cell_type": "code",
   "execution_count": 13,
   "metadata": {},
   "outputs": [],
   "source": [
    "data_dir = '/shared/rsaas/nschiou2/EROS/python/'\n",
    "\n",
    "df = pd.read_parquet(os.path.join(data_dir, 'CSP_filt_16_RT.parquet'))"
   ]
  },
  {
   "cell_type": "code",
   "execution_count": 16,
   "metadata": {},
   "outputs": [
    {
     "data": {
      "text/plain": [
       "[<matplotlib.lines.Line2D at 0x2ab710474128>]"
      ]
     },
     "execution_count": 16,
     "metadata": {},
     "output_type": "execute_result"
    },
    {
     "data": {
      "image/png": "[encoded data removed]",
      "text/plain": [
       "<Figure size 432x288 with 1 Axes>"
      ]
     },
     "metadata": {
      "needs_background": "light"
     },
     "output_type": "display_data"
    }
   ],
   "source": [
    "plt.plot(df.loc[0, 'csp_0'])"
   ]
  },
  {
   "cell_type": "code",
   "execution_count": 8,
   "metadata": {},
   "outputs": [],
   "source": [
    "data_dir = '/shared/rsaas/nschiou2/EROS/python/'\n",
    "\n",
    "df = pd.read_parquet(os.path.join(data_dir, 'CSP_filt_16_all.parquet'))"
   ]
  },
  {
   "cell_type": "code",
   "execution_count": 11,
   "metadata": {},
   "outputs": [
    {
     "data": {
      "text/plain": [
       "[<matplotlib.lines.Line2D at 0x2ab8f6007208>]"
      ]
     },
     "execution_count": 11,
     "metadata": {},
     "output_type": "execute_result"
    },
    {
     "data": {
      "image/png": "[encoded data removed]",
      "text/plain": [
       "<Figure size 432x288 with 1 Axes>"
      ]
     },
     "metadata": {
      "needs_background": "light"
     },
     "output_type": "display_data"
    }
   ],
   "source": [
    "plt.plot(df.loc[0, 'csp_0'])"
   ]
  },
  {
   "cell_type": "code",
   "execution_count": null,
   "metadata": {},
   "outputs": [],
   "source": []
  }
 ],
 "metadata": {
  "interpreter": {
   "hash": "667b3fee59bbee9945fdbb944d0bc23f81bf1cd729448df9b741b54d57013d75"
  },
  "kernelspec": {
   "display_name": "Python 3",
   "language": "python",
   "name": "python3"
  },
  "language_info": {
   "codemirror_mode": {
    "name": "ipython",
    "version": 3
   },
   "file_extension": ".py",
   "mimetype": "text/x-python",
   "name": "python",
   "nbconvert_exporter": "python",
   "pygments_lexer": "ipython3",
   "version": "3.6.8"
  }
 },
 "nbformat": 4,
 "nbformat_minor": 4
}
