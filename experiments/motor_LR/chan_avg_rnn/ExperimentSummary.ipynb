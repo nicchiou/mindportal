{
 "cells": [
  {
   "cell_type": "code",
   "execution_count": 1,
   "id": "b2d55da2-230a-4df9-ae04-39c1498486b0",
   "metadata": {},
   "outputs": [],
   "source": [
    "import os\n",
    "import ast\n",
    "import json\n",
    "\n",
    "import numpy as np\n",
    "import pandas as pd\n",
    "import matplotlib.pyplot as plt\n",
    "import seaborn as sns\n",
    "\n",
    "from utils import constants"
   ]
  },
  {
   "cell_type": "code",
   "execution_count": 2,
   "id": "5f51c94f-1310-421f-a1c1-a6b1cc7799eb",
   "metadata": {},
   "outputs": [],
   "source": [
    "def summarize(path, fname, name):\n",
    "    model_meta = pd.read_csv(os.path.join(path, fname))\n",
    "    def replace(x):\n",
    "        try:\n",
    "            return ast.literal_eval(x)\n",
    "        except:\n",
    "            return x\n",
    "    for col in ['train_losses', 'valid_losses']:\n",
    "        try:\n",
    "            model_meta[col] = model_meta[col].apply(replace)\n",
    "        except:\n",
    "            pass\n",
    "\n",
    "    model_meta['epochs'] = model_meta['train_losses'].apply(len)\n",
    "    model_meta['final_train_loss'] = model_meta['train_losses'].apply(lambda x: x[-1])\n",
    "    model_meta = model_meta.assign(approach=name)\n",
    "\n",
    "    return model_meta"
   ]
  },
  {
   "cell_type": "code",
   "execution_count": 28,
   "id": "5d44ef59-6d62-48e6-8c94-c6fc714e482f",
   "metadata": {},
   "outputs": [],
   "source": [
    "all_model_df = pd.DataFrame()\n",
    "\n",
    "root_dir = os.path.join(constants.RESULTS_DIR, 'motor_LR', 'chan_avg_rnn', 'rs', 'accuracy')\n",
    "exp_dir = 'avg_chan_rnn_16-hidden_1-rnn_1-fc_bidirectional'\n",
    "\n",
    "df = summarize(os.path.join(root_dir, exp_dir), 'trial_results.csv', 'Temp')"
   ]
  },
  {
   "cell_type": "code",
   "execution_count": 29,
   "id": "bb3a69f9-b039-4c8c-831a-b63987027b1f",
   "metadata": {},
   "outputs": [
    {
     "data": {
      "text/plain": [
       "Index(['final_test_loss', 'montage', 'subject', 'test_accuracy', 'test_auc',\n",
       "       'test_f1', 'test_sensitivity', 'test_specificity', 'train_accuracy',\n",
       "       'train_auc', 'train_f1', 'train_losses', 'train_sensitivity',\n",
       "       'train_specificity', 'valid_accuracy', 'valid_auc', 'valid_f1',\n",
       "       'valid_loss', 'valid_losses', 'valid_sensitivity', 'valid_specificity',\n",
       "       'epochs', 'final_train_loss', 'approach'],\n",
       "      dtype='object')"
      ]
     },
     "execution_count": 29,
     "metadata": {},
     "output_type": "execute_result"
    }
   ],
   "source": [
    "df.columns"
   ]
  },
  {
   "cell_type": "code",
   "execution_count": 30,
   "id": "5c9e28f7-20a6-4060-b441-5e1a8640672e",
   "metadata": {},
   "outputs": [
    {
     "data": {
      "text/html": [
       "<div>\n",
       "<style scoped>\n",
       "    .dataframe tbody tr th:only-of-type {\n",
       "        vertical-align: middle;\n",
       "    }\n",
       "\n",
       "    .dataframe tbody tr th {\n",
       "        vertical-align: top;\n",
       "    }\n",
       "\n",
       "    .dataframe thead th {\n",
       "        text-align: right;\n",
       "    }\n",
       "</style>\n",
       "<table border=\"1\" class=\"dataframe\">\n",
       "  <thead>\n",
       "    <tr style=\"text-align: right;\">\n",
       "      <th></th>\n",
       "      <th>test_accuracy</th>\n",
       "      <th>test_specificity</th>\n",
       "      <th>test_sensitivity</th>\n",
       "    </tr>\n",
       "    <tr>\n",
       "      <th>montage</th>\n",
       "      <th></th>\n",
       "      <th></th>\n",
       "      <th></th>\n",
       "    </tr>\n",
       "  </thead>\n",
       "  <tbody>\n",
       "    <tr>\n",
       "      <th>a</th>\n",
       "      <td>0.494569</td>\n",
       "      <td>0.565556</td>\n",
       "      <td>0.418687</td>\n",
       "    </tr>\n",
       "    <tr>\n",
       "      <th>b</th>\n",
       "      <td>0.499289</td>\n",
       "      <td>0.705758</td>\n",
       "      <td>0.295152</td>\n",
       "    </tr>\n",
       "    <tr>\n",
       "      <th>c</th>\n",
       "      <td>0.496901</td>\n",
       "      <td>0.563636</td>\n",
       "      <td>0.429293</td>\n",
       "    </tr>\n",
       "    <tr>\n",
       "      <th>d</th>\n",
       "      <td>0.507937</td>\n",
       "      <td>0.448182</td>\n",
       "      <td>0.561111</td>\n",
       "    </tr>\n",
       "    <tr>\n",
       "      <th>e</th>\n",
       "      <td>0.496512</td>\n",
       "      <td>0.514242</td>\n",
       "      <td>0.482727</td>\n",
       "    </tr>\n",
       "    <tr>\n",
       "      <th>f</th>\n",
       "      <td>0.514204</td>\n",
       "      <td>0.573535</td>\n",
       "      <td>0.471515</td>\n",
       "    </tr>\n",
       "    <tr>\n",
       "      <th>g</th>\n",
       "      <td>0.503354</td>\n",
       "      <td>0.246061</td>\n",
       "      <td>0.744949</td>\n",
       "    </tr>\n",
       "    <tr>\n",
       "      <th>h</th>\n",
       "      <td>0.508278</td>\n",
       "      <td>0.442424</td>\n",
       "      <td>0.578889</td>\n",
       "    </tr>\n",
       "  </tbody>\n",
       "</table>\n",
       "</div>"
      ],
      "text/plain": [
       "         test_accuracy  test_specificity  test_sensitivity\n",
       "montage                                                   \n",
       "a             0.494569          0.565556          0.418687\n",
       "b             0.499289          0.705758          0.295152\n",
       "c             0.496901          0.563636          0.429293\n",
       "d             0.507937          0.448182          0.561111\n",
       "e             0.496512          0.514242          0.482727\n",
       "f             0.514204          0.573535          0.471515\n",
       "g             0.503354          0.246061          0.744949\n",
       "h             0.508278          0.442424          0.578889"
      ]
     },
     "execution_count": 30,
     "metadata": {},
     "output_type": "execute_result"
    }
   ],
   "source": [
    "df.groupby(['montage']).mean()[['test_accuracy', 'test_specificity', 'test_sensitivity']]"
   ]
  },
  {
   "cell_type": "code",
   "execution_count": 31,
   "id": "79ef2b1c-b13c-4104-a917-1baf6d56b356",
   "metadata": {},
   "outputs": [
    {
     "data": {
      "text/plain": [
       "[<matplotlib.lines.Line2D at 0x2b2b19f04198>]"
      ]
     },
     "execution_count": 31,
     "metadata": {},
     "output_type": "execute_result"
    },
    {
     "data": {
      "image/png": "[encoded data removed]",
      "text/plain": [
       "<Figure size 432x288 with 1 Axes>"
      ]
     },
     "metadata": {
      "needs_background": "light"
     },
     "output_type": "display_data"
    }
   ],
   "source": [
    "plt.plot(df.loc[0, 'train_losses'])"
   ]
  },
  {
   "cell_type": "code",
   "execution_count": null,
   "id": "3020ee1e-2538-4e03-aa36-aa9a3dc2618c",
   "metadata": {},
   "outputs": [],
   "source": []
  }
 ],
 "metadata": {
  "kernelspec": {
   "display_name": "Python 3.6.8 64-bit ('mindportal-WOQzsGXd': pipenv)",
   "language": "python",
   "name": "python368jvsc74a57bd0667b3fee59bbee9945fdbb944d0bc23f81bf1cd729448df9b741b54d57013d75"
  },
  "language_info": {
   "codemirror_mode": {
    "name": "ipython",
    "version": 3
   },
   "file_extension": ".py",
   "mimetype": "text/x-python",
   "name": "python",
   "nbconvert_exporter": "python",
   "pygments_lexer": "ipython3",
   "version": "3.6.8"
  }
 },
 "nbformat": 4,
 "nbformat_minor": 5
}
